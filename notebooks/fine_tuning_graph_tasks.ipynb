{
 "cells": [
  {
   "cell_type": "code",
   "execution_count": 1,
   "metadata": {},
   "outputs": [],
   "source": [
    "import os \n",
    "import sys\n",
    "sys.path.append('/home/mingxuan.zhang/scGraphLLM/scGraphLLM')"
   ]
  },
  {
   "cell_type": "code",
   "execution_count": 2,
   "metadata": {},
   "outputs": [
    {
     "name": "stderr",
     "output_type": "stream",
     "text": [
      "/hpc/mydata/mingxuan.zhang/anaconda/23.1.0-3/x86_64/envs/scllm_2/lib/python3.9/site-packages/torch_geometric/typing.py:68: UserWarning: An issue occurred while importing 'pyg-lib'. Disabling its usage. Stacktrace: /lib64/libm.so.6: version `GLIBC_2.29' not found (required by /hpc/mydata/mingxuan.zhang/anaconda/23.1.0-3/x86_64/envs/scllm_2/lib/python3.9/site-packages/libpyg.so)\n",
      "  warnings.warn(f\"An issue occurred while importing 'pyg-lib'. \"\n"
     ]
    }
   ],
   "source": [
    "import torch\n",
    "import torch.nn as nn\n",
    "import torch.nn.functional as F\n",
    "import lightning.pytorch as pl\n",
    "from GNN_modules import *\n",
    "from MLP_modules import *\n",
    "import lightning.pytorch as pl\n",
    "from _globals import * ## these define the indices for the special tokens \n",
    "from torch_geometric.utils import negative_sampling\n",
    "from flash_transformer import GDTransformer"
   ]
  },
  {
   "cell_type": "code",
   "execution_count": 3,
   "metadata": {},
   "outputs": [],
   "source": [
    "from config import *"
   ]
  },
  {
   "cell_type": "code",
   "execution_count": 4,
   "metadata": {},
   "outputs": [
    {
     "data": {
      "text/plain": [
       "True"
      ]
     },
     "execution_count": 4,
     "metadata": {},
     "output_type": "execute_result"
    }
   ],
   "source": [
    "torch.cuda.is_available()"
   ]
  },
  {
   "cell_type": "code",
   "execution_count": 5,
   "metadata": {},
   "outputs": [],
   "source": [
    "vanilla_path = \"/hpc/mydata/mingxuan.zhang/scGraphLLM/model_out/scGraphLLM/Rdjy0XuN/checkpoints/epoch=3-step=4742.ckpt\""
   ]
  },
  {
   "cell_type": "code",
   "execution_count": 6,
   "metadata": {},
   "outputs": [],
   "source": [
    "vanilla_model = GDTransformer.load_from_checkpoint(vanilla_path, config=vanilla_manitou)"
   ]
  },
  {
   "cell_type": "code",
   "execution_count": 7,
   "metadata": {},
   "outputs": [],
   "source": [
    "gdk_path = \"/hpc/mydata/mingxuan.zhang/scGraphLLM/model_out/scGraphLLM/NVtvvJLu/checkpoints/epoch=2-step=3712.ckpt\""
   ]
  },
  {
   "cell_type": "code",
   "execution_count": 8,
   "metadata": {},
   "outputs": [
    {
     "name": "stderr",
     "output_type": "stream",
     "text": [
      "/tmp/ipykernel_1340049/3366974342.py:1: FutureWarning: You are using `torch.load` with `weights_only=False` (the current default value), which uses the default pickle module implicitly. It is possible to construct malicious pickle data which will execute arbitrary code during unpickling (See https://github.com/pytorch/pytorch/blob/main/SECURITY.md#untrusted-models for more details). In a future release, the default value for `weights_only` will be flipped to `True`. This limits the functions that could be executed during unpickling. Arbitrary objects will no longer be allowed to be loaded via this mode unless they are explicitly allowlisted by the user via `torch.serialization.add_safe_globals`. We recommend you start setting `weights_only=True` for any use case where you don't have full control of the loaded file. Please open an issue on GitHub for any issues related to this experimental feature.\n",
      "  gdk_model_state_dict = torch.load(gdk_path)[\"state_dict\"]\n"
     ]
    },
    {
     "data": {
      "text/plain": [
       "odict_keys(['link_prediction_head.net.0.weight', 'link_prediction_head.net.0.bias', 'link_prediction_head.net.1.weight', 'link_prediction_head.net.1.bias', 'link_prediction_head.net.3.weight', 'link_prediction_head.net.3.bias', 'node_embedding.weight', 'gene_prediction_head.net.0.weight', 'gene_prediction_head.net.0.bias', 'gene_prediction_head.net.1.weight', 'gene_prediction_head.net.1.bias', 'gene_prediction_head.net.3.weight', 'gene_prediction_head.net.3.bias', 'rank_prediction_head.net.0.weight', 'rank_prediction_head.net.0.bias', 'rank_prediction_head.net.1.weight', 'rank_prediction_head.net.1.bias', 'rank_prediction_head.net.3.weight', 'rank_prediction_head.net.3.bias', 'transformer_encoder.self_attention.out_proj.weight', 'transformer_encoder.self_attention.out_proj.bias', 'transformer_encoder.wqkv.Wqkv.weight', 'transformer_encoder.wqkv.Wqkv.bias', 'transformer_encoder.wqkv.Wp.weight', 'transformer_encoder.wqkv.Wp.bias', 'transformer_encoder.ff.0.weight', 'transformer_encoder.ff.0.bias', 'transformer_encoder.ff.2.weight', 'transformer_encoder.ff.2.bias', 'transformer_encoder.ln1.weight', 'transformer_encoder.ln1.bias', 'transformer_encoder.ln2.weight', 'transformer_encoder.ln2.bias'])"
      ]
     },
     "execution_count": 8,
     "metadata": {},
     "output_type": "execute_result"
    }
   ],
   "source": [
    "gdk_model_state_dict = torch.load(gdk_path)[\"state_dict\"]\n",
    "gdk_model_state_dict.keys()"
   ]
  },
  {
   "cell_type": "code",
   "execution_count": 9,
   "metadata": {},
   "outputs": [
    {
     "name": "stderr",
     "output_type": "stream",
     "text": [
      "/tmp/ipykernel_1340049/381428171.py:2: FutureWarning: You are using `torch.load` with `weights_only=False` (the current default value), which uses the default pickle module implicitly. It is possible to construct malicious pickle data which will execute arbitrary code during unpickling (See https://github.com/pytorch/pytorch/blob/main/SECURITY.md#untrusted-models for more details). In a future release, the default value for `weights_only` will be flipped to `True`. This limits the functions that could be executed during unpickling. Arbitrary objects will no longer be allowed to be loaded via this mode unless they are explicitly allowlisted by the user via `torch.serialization.add_safe_globals`. We recommend you start setting `weights_only=True` for any use case where you don't have full control of the loaded file. Please open an issue on GitHub for any issues related to this experimental feature.\n",
      "  cpt = torch.load(gdk_path)\n"
     ]
    }
   ],
   "source": [
    "gdk_model = GDTransformer(config=graph_kernel_attn_manitou)\n",
    "cpt = torch.load(gdk_path)\n",
    "filtered_state_dict = {k: v for k, v in cpt[\"state_dict\"].items() if (\"transformer_encoder.wqkv.Wp.weight\" not in k) & (\"transformer_encoder.wqkv.Wp.bias\" not in k)}"
   ]
  },
  {
   "cell_type": "code",
   "execution_count": 10,
   "metadata": {},
   "outputs": [
    {
     "data": {
      "text/plain": [
       "dict_keys(['link_prediction_head.net.0.weight', 'link_prediction_head.net.0.bias', 'link_prediction_head.net.1.weight', 'link_prediction_head.net.1.bias', 'link_prediction_head.net.3.weight', 'link_prediction_head.net.3.bias', 'node_embedding.weight', 'gene_prediction_head.net.0.weight', 'gene_prediction_head.net.0.bias', 'gene_prediction_head.net.1.weight', 'gene_prediction_head.net.1.bias', 'gene_prediction_head.net.3.weight', 'gene_prediction_head.net.3.bias', 'rank_prediction_head.net.0.weight', 'rank_prediction_head.net.0.bias', 'rank_prediction_head.net.1.weight', 'rank_prediction_head.net.1.bias', 'rank_prediction_head.net.3.weight', 'rank_prediction_head.net.3.bias', 'transformer_encoder.self_attention.out_proj.weight', 'transformer_encoder.self_attention.out_proj.bias', 'transformer_encoder.wqkv.Wqkv.weight', 'transformer_encoder.wqkv.Wqkv.bias', 'transformer_encoder.ff.0.weight', 'transformer_encoder.ff.0.bias', 'transformer_encoder.ff.2.weight', 'transformer_encoder.ff.2.bias', 'transformer_encoder.ln1.weight', 'transformer_encoder.ln1.bias', 'transformer_encoder.ln2.weight', 'transformer_encoder.ln2.bias'])"
      ]
     },
     "execution_count": 10,
     "metadata": {},
     "output_type": "execute_result"
    }
   ],
   "source": [
    "filtered_state_dict.keys()"
   ]
  },
  {
   "cell_type": "code",
   "execution_count": 11,
   "metadata": {},
   "outputs": [
    {
     "data": {
      "text/plain": [
       "<All keys matched successfully>"
      ]
     },
     "execution_count": 11,
     "metadata": {},
     "output_type": "execute_result"
    }
   ],
   "source": [
    "gdk_model.load_state_dict(filtered_state_dict, strict=False)"
   ]
  },
  {
   "cell_type": "code",
   "execution_count": 12,
   "metadata": {},
   "outputs": [
    {
     "data": {
      "text/plain": [
       "GDTransformer(\n",
       "  (link_prediction_head): LinkPredictHead(\n",
       "    (net): Sequential(\n",
       "      (0): Linear(in_features=512, out_features=256, bias=True)\n",
       "      (1): LayerNorm((256,), eps=1e-05, elementwise_affine=True)\n",
       "      (2): GELU(approximate='none')\n",
       "      (3): Linear(in_features=256, out_features=1, bias=True)\n",
       "    )\n",
       "  )\n",
       "  (node_embedding): Embedding(19502, 128, padding_idx=0)\n",
       "  (gene_prediction_head): RobertaLMHead(\n",
       "    (net): Sequential(\n",
       "      (0): Linear(in_features=256, out_features=256, bias=True)\n",
       "      (1): LayerNorm((256,), eps=1e-05, elementwise_affine=True)\n",
       "      (2): GELU(approximate='none')\n",
       "      (3): Linear(in_features=256, out_features=19247, bias=True)\n",
       "    )\n",
       "  )\n",
       "  (rank_prediction_head): RobertaLMHead(\n",
       "    (net): Sequential(\n",
       "      (0): Linear(in_features=256, out_features=256, bias=True)\n",
       "      (1): LayerNorm((256,), eps=1e-05, elementwise_affine=True)\n",
       "      (2): GELU(approximate='none')\n",
       "      (3): Linear(in_features=256, out_features=255, bias=True)\n",
       "    )\n",
       "  )\n",
       "  (transformer_encoder): FlashTransformerEncoderLayer(\n",
       "    (activation): GELU(approximate='none')\n",
       "    (self_attention): FlashMHASelfMaskKV(\n",
       "      (out_proj): Linear(in_features=256, out_features=256, bias=True)\n",
       "    )\n",
       "    (wqkv): FusedWQKV(\n",
       "      (Wqkv): Linear(in_features=256, out_features=768, bias=True)\n",
       "    )\n",
       "    (ff): Sequential(\n",
       "      (0): Linear(in_features=256, out_features=256, bias=True)\n",
       "      (1): GELU(approximate='none')\n",
       "      (2): Linear(in_features=256, out_features=256, bias=True)\n",
       "    )\n",
       "    (dropout_ff): Dropout(p=0.1, inplace=False)\n",
       "    (ln1): LayerNorm((256,), eps=1e-05, elementwise_affine=True)\n",
       "    (ln2): LayerNorm((256,), eps=1e-05, elementwise_affine=True)\n",
       "  )\n",
       ")"
      ]
     },
     "execution_count": 12,
     "metadata": {},
     "output_type": "execute_result"
    }
   ],
   "source": [
    "gdk_model.to(\"cuda\")"
   ]
  },
  {
   "cell_type": "code",
   "execution_count": 13,
   "metadata": {},
   "outputs": [],
   "source": [
    "from data import *\n",
    "from torch.nn.utils.rnn import pad_sequence"
   ]
  },
  {
   "cell_type": "code",
   "execution_count": 14,
   "metadata": {},
   "outputs": [],
   "source": [
    "def collate_fn(batch):\n",
    "    data = { \"orig_gene_id\" : [], \"orig_rank_indices\" : [], \"gene_mask\" : [], \n",
    "            \"rank_mask\" : [], \"both_mask\" : [], \"edge_index\": [], \"num_nodes\" :[], \n",
    "            \"spectral_pe\" : [], \"dataset_name\" : [] }\n",
    "    \n",
    "    # Make a dictionary of lists from the list of dictionaries\n",
    "    for b in batch:\n",
    "        for key in data.keys():\n",
    "            data[key].append(b[key])\n",
    "\n",
    "    # Pad these dictionaries of lists\n",
    "    for key in data.keys():\n",
    "        if (key != \"dataset_name\") & (key != \"edge_index\") & (key != \"num_nodes\"):\n",
    "            data[key] = pad_sequence(data[key], batch_first=True)\n",
    "\n",
    "    return data"
   ]
  },
  {
   "cell_type": "code",
   "execution_count": 15,
   "metadata": {},
   "outputs": [
    {
     "name": "stdout",
     "output_type": "stream",
     "text": [
      "/hpc/projects/group.califano/GLM/data/cxg_cache_4096/train\n",
      "/hpc/projects/group.califano/GLM/data/cxg_cache_4096/valSG\n",
      "/hpc/projects/group.califano/GLM/data/cxg_cache_4096/valHOG\n"
     ]
    }
   ],
   "source": [
    "transformer_data_module = GraphTransformerDataModule(graph_kernel_attn_4096.data_config, collate_fn=collate_fn)\n",
    "train_transformer_dl = transformer_data_module.train_dataloader()\n",
    "val_transformer_dl = transformer_data_module.val_dataloader()"
   ]
  },
  {
   "cell_type": "code",
   "execution_count": 16,
   "metadata": {},
   "outputs": [],
   "source": [
    "val_hog_data = val_transformer_dl[-1]\n",
    "val_sg_data = val_transformer_dl[0]"
   ]
  },
  {
   "cell_type": "code",
   "execution_count": 17,
   "metadata": {},
   "outputs": [],
   "source": [
    "from MLP_modules import LinkPredictHead\n",
    "from sklearn.metrics import roc_curve, auc\n",
    "from sklearn.metrics import precision_recall_curve\n",
    "from sklearn.metrics import average_precision_score\n",
    "import tqdm\n",
    "import matplotlib.pyplot as plt\n",
    "import random"
   ]
  },
  {
   "cell_type": "code",
   "execution_count": 18,
   "metadata": {},
   "outputs": [],
   "source": [
    "def link_pred_loss(predictor, node_embedding, mask_locs, edge_index_list):\n",
    "    pos_out = []\n",
    "    neg_out = []\n",
    "    pos_labels = []\n",
    "    neg_labels = []\n",
    "\n",
    "    batch_size, num_nodes, embed_dim = node_embedding.shape\n",
    "    device = node_embedding.device\n",
    "\n",
    "    for batch in range(batch_size):\n",
    "        masked_nodes = torch.where(mask_locs[batch])[0]\n",
    "        if masked_nodes.numel() == 0:\n",
    "            continue\n",
    "        masked_nodes = masked_nodes.to(device)\n",
    "        edge_index = edge_index_list[batch].to(device)\n",
    "        masked_nodes_bool = torch.zeros(num_nodes, dtype=torch.bool, device=device)\n",
    "        masked_nodes_bool[masked_nodes] = True\n",
    "        src_nodes = edge_index[0]\n",
    "        dst_nodes = edge_index[1]\n",
    "        edge_mask = masked_nodes_bool[src_nodes] & masked_nodes_bool[dst_nodes]\n",
    "        pos_edge_index = edge_index[:, edge_mask]\n",
    "        if pos_edge_index.size(1) == 0:\n",
    "            continue\n",
    "\n",
    "        num_neg_samples = pos_edge_index.size(1)\n",
    "        neg_edge_index = negative_sampling(\n",
    "            edge_index=edge_index,\n",
    "            num_nodes=num_nodes,\n",
    "            num_neg_samples=num_neg_samples,\n",
    "            method='sparse'\n",
    "        ).to(device)\n",
    "\n",
    "        # Positive scores\n",
    "        src_emb_pos = node_embedding[batch, pos_edge_index[0]]\n",
    "        dst_emb_pos = node_embedding[batch, pos_edge_index[1]]\n",
    "        pos_scores = predictor(src_emb_pos, dst_emb_pos)\n",
    "        pos_out.append(pos_scores)\n",
    "        pos_labels.append(torch.ones_like(pos_scores, device=device))  # Positive labels (1)\n",
    "\n",
    "        # Negative scores\n",
    "        src_emb_neg = node_embedding[batch, neg_edge_index[0]]\n",
    "        dst_emb_neg = node_embedding[batch, neg_edge_index[1]]\n",
    "        neg_scores = predictor(src_emb_neg, dst_emb_neg)\n",
    "        neg_out.append(neg_scores)\n",
    "        neg_labels.append(torch.zeros_like(neg_scores, device=device))  # Negative labels (0)\n",
    "\n",
    "    if pos_out:\n",
    "        pos_out = torch.cat(pos_out, dim=0)\n",
    "        neg_out = torch.cat(neg_out, dim=0)\n",
    "        pos_labels = torch.cat(pos_labels, dim=0)\n",
    "        neg_labels = torch.cat(neg_labels, dim=0)\n",
    "\n",
    "        # Loss calculation\n",
    "        pos_loss = -torch.log(pos_out + 1e-10).mean()\n",
    "        neg_loss = -torch.log(1 - neg_out + 1e-10).mean()\n",
    "\n",
    "        # Concatenate outputs and labels\n",
    "        all_outputs = torch.cat([pos_out, neg_out], dim=0)\n",
    "        all_labels = torch.cat([pos_labels, neg_labels], dim=0)\n",
    "\n",
    "        return pos_loss + neg_loss, all_outputs, all_labels\n",
    "    else:\n",
    "        return torch.tensor(0.0, device=device), torch.tensor([], device=device), torch.tensor([], device=device)"
   ]
  },
  {
   "cell_type": "code",
   "execution_count": 19,
   "metadata": {},
   "outputs": [],
   "source": [
    "def send_to_gpu(data):\n",
    "    if isinstance(data, torch.Tensor):\n",
    "        return data.to('cuda')  # Send tensor to GPU\n",
    "    elif isinstance(data, list):\n",
    "        return [send_to_gpu(item) for item in data]  # Recursively process lists\n",
    "    elif isinstance(data, dict):\n",
    "        return {key: send_to_gpu(value) for key, value in data.items()}  # Recursively process dicts\n",
    "    else:\n",
    "        return data  # If not a tensor or list/dict, leave unchanged"
   ]
  },
  {
   "cell_type": "code",
   "execution_count": 20,
   "metadata": {},
   "outputs": [],
   "source": [
    "def fine_tune_train_step(pretrained_model, ft_model, batch, opt):\n",
    "    pretrained_model.eval()\n",
    "    ft_model.train()\n",
    "    batch = send_to_gpu(batch)\n",
    "    embedding, target_gene_ids, target_rank_ids, mask_locs, edge_index_list, num_nodes_list = pretrained_model(batch)\n",
    "    L_g, _, _ = link_pred_loss(ft_model, embedding, mask_locs[0], edge_index_list)\n",
    "    L_g.backward()\n",
    "    opt.step()\n",
    "    return L_g\n",
    "\n",
    "def fine_tune(train_dataloader, pretrained_model, ft_model, lr=1e-3, num_epochs=100, max_num_batches=200):\n",
    "    train_losses = []\n",
    "    opt = torch.optim.Adam(ft_model.parameters(), lr=1e-3, weight_decay=1e-4)\n",
    "    for epoch in range(num_epochs):\n",
    "        print(f\"Epoch {epoch + 1}/{num_epochs}\")\n",
    "        \n",
    "        # Training phase\n",
    "        train_loss_epoch = 0\n",
    "        train_batches = len(train_dataloader)\n",
    "        num_batches = 0\n",
    "        for batch in  tqdm.tqdm(train_dataloader, desc=\"Training\", leave=False):\n",
    "            train_loss = fine_tune_train_step(pretrained_model, ft_model, batch, opt)\n",
    "            train_loss_epoch += train_loss.item()\n",
    "            num_batches += 1\n",
    "            if num_batches >= max_num_batches:\n",
    "                break\n",
    "        train_loss_epoch /= train_batches\n",
    "        train_losses.append(train_loss_epoch)\n",
    "        print(f\"Train loss: {train_loss_epoch:.4f}\")\n",
    "    return train_losses\n",
    "\n",
    "def predict_and_compare(test_dataloader, pretrain1, pretrain2, model1, model2, max_num_batches=100):\n",
    "    model1.eval().to(\"cuda\")\n",
    "    model2.eval().to(\"cuda\")\n",
    "    pretrain1.eval().to(\"cuda\")\n",
    "    pretrain2.eval().to(\"cuda\")\n",
    "    \n",
    "    all_preds1 = []\n",
    "    all_preds2 = []\n",
    "    all_labels = []\n",
    "    n_b = 0\n",
    "    for batch in tqdm.tqdm(test_dataloader, leave=False):\n",
    "        batch = send_to_gpu(batch)\n",
    "        embedding1, target_gene_ids, target_rank_ids, mask_locs, edge_index_list, num_nodes_list = pretrain1(batch)\n",
    "        embedding2, target_gene_ids, target_rank_ids, mask_locs, edge_index_list, num_nodes_list = pretrain2(batch)\n",
    "        \n",
    "        L_g1, preds1, labels = link_pred_loss(model1, embedding1, mask_locs[0], edge_index_list)\n",
    "        L_g2, preds2, labels = link_pred_loss(model2, embedding2, mask_locs[0], edge_index_list)\n",
    "        \n",
    "        all_preds1.extend(preds1.cpu().detach().numpy())\n",
    "        all_preds2.extend(preds2.cpu().detach().numpy())\n",
    "        all_labels.extend(labels.cpu().detach().numpy())\n",
    "        \n",
    "        n_b += 1\n",
    "        if n_b >= max_num_batches:\n",
    "            break\n",
    "    \n",
    "    # AUROC\n",
    "    fpr1, tpr1, _ = roc_curve(all_labels, all_preds1)\n",
    "    fpr2, tpr2, _ = roc_curve(all_labels, all_preds2)\n",
    "    auc1 = auc(fpr1, tpr1)\n",
    "    auc2 = auc(fpr2, tpr2)\n",
    "    \n",
    "    # PR\n",
    "    p1, r1, _ = precision_recall_curve(all_labels, all_preds1)\n",
    "    p2, r2, _ = precision_recall_curve(all_labels, all_preds2)\n",
    "    apr1 = average_precision_score(all_labels, all_preds1)\n",
    "    apr2 = average_precision_score(all_labels, all_preds2)\n",
    "    \n",
    "    return fpr1, tpr1, auc1, fpr2, tpr2, auc2, p1, r1, apr1, p2, r2, apr2"
   ]
  },
  {
   "cell_type": "code",
   "execution_count": 30,
   "metadata": {},
   "outputs": [],
   "source": [
    "def auroc_curves(fpr1, tpr1, auc1, fpr2, tpr2, auc2):\n",
    "    plt.figure(figsize=(8, 6))\n",
    "    plt.plot(fpr1, tpr1, label=f\"fine-tune w. vanilla embedding (AUC = {auc1:.3f})\")\n",
    "    plt.plot(fpr2, tpr2, label=f\"fine-tune w. GraphDKA embedding (AUC = {auc2:.3f})\")\n",
    "    plt.plot([0, 1], [0, 1], 'k--', label=\"Random Guess\")\n",
    "    plt.xlabel(\"False Positive Rate\")\n",
    "    plt.ylabel(\"True Positive Rate\")\n",
    "    plt.title(\"Fine tuning AUROC, link pred\")\n",
    "    plt.legend(loc=\"best\")\n",
    "    plt.grid()\n",
    "    plt.show()"
   ]
  },
  {
   "cell_type": "code",
   "execution_count": 31,
   "metadata": {},
   "outputs": [],
   "source": [
    "def pr_curves(precision1, recall1, ap1, precision2, recall2, ap2):\n",
    "    plt.figure(figsize=(8, 6))\n",
    "\n",
    "    # Plot the first PR curve\n",
    "    plt.plot(recall1, precision1, label=f\"fine-tune w. vanilla embedding (Avg. Prec. = {ap1:.3f})\", linestyle='-', marker=None)\n",
    "\n",
    "    # Plot the second PR curve\n",
    "    plt.plot(recall2, precision2, label=f\"fine-tune w. GraphDKA embedding (Avg. Prec. = {ap2:.3f})\", linestyle='--', marker=None)\n",
    "\n",
    "    # Add labels and legend\n",
    "    plt.xlabel(\"Recall\")\n",
    "    plt.ylabel(\"Precision\")\n",
    "    plt.title(\"Fine tuning Precision-Recall Curve, link pred\")\n",
    "    plt.legend(loc=\"best\")\n",
    "    plt.grid()\n",
    "\n",
    "    # Set axis limits for better visualization\n",
    "    plt.xlim([0.0, 1.0])\n",
    "    plt.ylim([0.0, 1.05])\n",
    "\n",
    "    # Show the plot\n",
    "    plt.show()"
   ]
  },
  {
   "cell_type": "code",
   "execution_count": 23,
   "metadata": {},
   "outputs": [],
   "source": [
    "def random_sample_batches(dataloader, n):\n",
    "    # Convert the dataloader to a list of batches\n",
    "    batches = list(dataloader)\n",
    "    # Randomly sample n batches\n",
    "    sampled_batches = random.sample(batches, n)\n",
    "    return sampled_batches"
   ]
  },
  {
   "cell_type": "code",
   "execution_count": 24,
   "metadata": {},
   "outputs": [],
   "source": [
    "vanilla_lp = LinkPredictHead(256, 1).to(\"cuda\")\n",
    "gdk_lp = LinkPredictHead(256, 1).to(\"cuda\")"
   ]
  },
  {
   "cell_type": "code",
   "execution_count": 25,
   "metadata": {},
   "outputs": [
    {
     "name": "stdout",
     "output_type": "stream",
     "text": [
      "Epoch 1/1\n",
      "556923\n",
      "556923\n"
     ]
    },
    {
     "name": "stderr",
     "output_type": "stream",
     "text": [
      "Training:   0%|                                                                                                  | 0/34808 [00:00<?, ?it/s]"
     ]
    },
    {
     "name": "stdout",
     "output_type": "stream",
     "text": [
      "556923\n"
     ]
    },
    {
     "name": "stderr",
     "output_type": "stream",
     "text": [
      "                                                                                                                                           "
     ]
    },
    {
     "name": "stdout",
     "output_type": "stream",
     "text": [
      "Train loss: 0.0029\n"
     ]
    },
    {
     "name": "stderr",
     "output_type": "stream",
     "text": [
      "\r"
     ]
    }
   ],
   "source": [
    "vanilla_loss = fine_tune(val_sg_data, pretrained_model=vanilla_model, ft_model=vanilla_lp, num_epochs=1, max_num_batches=100)"
   ]
  },
  {
   "cell_type": "code",
   "execution_count": 26,
   "metadata": {},
   "outputs": [
    {
     "name": "stdout",
     "output_type": "stream",
     "text": [
      "Epoch 1/1\n",
      "556923\n",
      "556923\n"
     ]
    },
    {
     "name": "stderr",
     "output_type": "stream",
     "text": [
      "Training:   0%|                                                                                                  | 0/34808 [00:00<?, ?it/s]"
     ]
    },
    {
     "name": "stdout",
     "output_type": "stream",
     "text": [
      "556923\n"
     ]
    },
    {
     "name": "stderr",
     "output_type": "stream",
     "text": [
      "                                                                                                                                           "
     ]
    },
    {
     "name": "stdout",
     "output_type": "stream",
     "text": [
      "Train loss: 0.0014\n"
     ]
    },
    {
     "name": "stderr",
     "output_type": "stream",
     "text": [
      "\r"
     ]
    }
   ],
   "source": [
    "gdk_loss = fine_tune(val_sg_data, pretrained_model=gdk_model, ft_model=gdk_lp, num_epochs=1, max_num_batches=100)"
   ]
  },
  {
   "cell_type": "code",
   "execution_count": 27,
   "metadata": {},
   "outputs": [
    {
     "name": "stdout",
     "output_type": "stream",
     "text": [
      "669335\n"
     ]
    },
    {
     "name": "stderr",
     "output_type": "stream",
     "text": [
      "  0%|                                                                                                            | 0/41834 [00:00<?, ?it/s]"
     ]
    },
    {
     "name": "stdout",
     "output_type": "stream",
     "text": [
      "669335\n"
     ]
    },
    {
     "name": "stderr",
     "output_type": "stream",
     "text": [
      "                                                                                                                                           \r"
     ]
    }
   ],
   "source": [
    "fpr1, tpr1, auc1, fpr2, tpr2, auc2, p1, r1, apr1, p2, r2, apr2 = predict_and_compare(val_hog_data, \n",
    "                                                                                     vanilla_model, \n",
    "                                                                                     gdk_model, \n",
    "                                                                                     vanilla_lp, \n",
    "                                                                                     gdk_lp, max_num_batches=50)"
   ]
  },
  {
   "cell_type": "code",
   "execution_count": 32,
   "metadata": {},
   "outputs": [
    {
     "data": {
      "image/png": "[encoded data removed]",
      "text/plain": [
       "<Figure size 800x600 with 1 Axes>"
      ]
     },
     "metadata": {},
     "output_type": "display_data"
    }
   ],
   "source": [
    "auroc_curves(fpr1, tpr1, auc1, fpr2, tpr2, auc2)"
   ]
  },
  {
   "cell_type": "code",
   "execution_count": 33,
   "metadata": {},
   "outputs": [
    {
     "data": {
      "image/png": "[encoded data removed]",
      "text/plain": [
       "<Figure size 800x600 with 1 Axes>"
      ]
     },
     "metadata": {},
     "output_type": "display_data"
    }
   ],
   "source": [
    "pr_curves(p1, r1, apr1, p2, r2, apr2)"
   ]
  },
  {
   "cell_type": "code",
   "execution_count": null,
   "metadata": {},
   "outputs": [],
   "source": []
  }
 ],
 "metadata": {
  "kernelspec": {
   "display_name": "Python 3 (ipykernel)",
   "language": "python",
   "name": "python3"
  },
  "language_info": {
   "codemirror_mode": {
    "name": "ipython",
    "version": 3
   },
   "file_extension": ".py",
   "mimetype": "text/x-python",
   "name": "python",
   "nbconvert_exporter": "python",
   "pygments_lexer": "ipython3",
   "version": "3.9.10"
  }
 },
 "nbformat": 4,
 "nbformat_minor": 2
}
