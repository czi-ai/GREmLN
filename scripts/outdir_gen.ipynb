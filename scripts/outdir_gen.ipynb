{
 "cells": [
  {
   "cell_type": "code",
   "execution_count": 35,
   "metadata": {},
   "outputs": [
    {
     "name": "stdout",
     "output_type": "stream",
     "text": [
      "TRAIN_num: 208\n",
      "SG_num: 26\n",
      "HG_num: 27\n",
      "Done!\n"
     ]
    }
   ],
   "source": [
    "import os\n",
    "\n",
    "TRAIN_prop = 0.8\n",
    "VAL_SG_prop = 0.1\n",
    "VAL_HG_prop = 0.1\n",
    "\n",
    "success_file = open(\"/hpc/projects/group.califano/GLM/scGraphLLM/scripts/slurm_out/check_out_16509728/success.txt\", \"r\")\n",
    "success_file = [dir[:-1] for dir in success_file]\n",
    "\n",
    "# Check file size and delegate the dirs according to their size rather than equal weighting of each\n",
    "TRAIN_num = int(len(success_file)//(1/TRAIN_prop))\n",
    "SG_num = int(len(success_file)//(1/VAL_SG_prop))\n",
    "HG_num = int(len(success_file) - TRAIN_num - SG_num)\n",
    "\n",
    "print(\"TRAIN_num:\", TRAIN_num)\n",
    "print(\"SG_num:\", SG_num)\n",
    "print(\"HG_num:\", HG_num)\n",
    "\n",
    "outdirs = open(\"/hpc/projects/group.califano/GLM/data/aracne_outdir.csv\", \"w\")\n",
    "aracne_path = \"/hpc/projects/group.califano/GLM/data/cellxgene/data/complete_data\"\n",
    "\n",
    "for i in range(TRAIN_num):\n",
    "    outdirs.write(f\"{aracne_path}/{success_file[i]}/aracne,train\\n\")\n",
    "\n",
    "for i in range(TRAIN_num, TRAIN_num+SG_num):\n",
    "    outdirs.write(f\"{aracne_path}/{success_file[i]}/aracne,valSG\\n\")\n",
    "    \n",
    "for i in range(TRAIN_num+SG_num, TRAIN_num+SG_num+HG_num):\n",
    "    outdirs.write(f\"{aracne_path}/{success_file[i]}/aracne,valHG\\n\")\n",
    "    \n",
    "outdirs.close()\n",
    "\n",
    "print(\"Done!\")\n",
    "    "
   ]
  }
 ],
 "metadata": {
  "kernelspec": {
   "display_name": "scllm",
   "language": "python",
   "name": "python3"
  },
  "language_info": {
   "codemirror_mode": {
    "name": "ipython",
    "version": 3
   },
   "file_extension": ".py",
   "mimetype": "text/x-python",
   "name": "python",
   "nbconvert_exporter": "python",
   "pygments_lexer": "ipython3",
   "version": "3.12.6"
  }
 },
 "nbformat": 4,
 "nbformat_minor": 2
}
