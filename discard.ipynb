{
 "cells": [
  {
   "cell_type": "code",
   "execution_count": 2,
   "metadata": {},
   "outputs": [
    {
     "name": "stdout",
     "output_type": "stream",
     "text": [
      "slurm_out_16726641\n",
      ".ARACNe3_cached\n"
     ]
    }
   ],
   "source": [
    "import os\n",
    "import json\n",
    "\n",
    "PATH = \"/hpc/projects/group.califano/GLM/scGraphLLM/scripts/slurm_out\"\n",
    "\n",
    "for dr in os.listdir(PATH):\n",
    "    print(dr)"
   ]
  },
  {
   "cell_type": "code",
   "execution_count": 10,
   "metadata": {},
   "outputs": [
    {
     "name": "stdout",
     "output_type": "stream",
     "text": [
      "2149185 cells are in the dataset!\n"
     ]
    }
   ],
   "source": [
    "run = \"16726641\"\n",
    "\n",
    "success_file = open(f\"/hpc/projects/group.califano/GLM/scGraphLLM/scripts/slurm_out/slurm_out_{run}/check_out/success.txt\", \"r\")\n",
    "success_file = [dir[:-1] for dir in success_file]\n",
    "\n",
    "PATH = \"/hpc/projects/group.califano/GLM/data/cellxgene/data/complete_data\"\n",
    "\n",
    "cell_count = 0\n",
    "for cell_type in success_file:\n",
    "    for f in os.listdir(f\"{PATH}/{cell_type}\"):\n",
    "        if \"info\" in f:\n",
    "            with open(f'{PATH}/{cell_type}/{f}', 'r') as file:\n",
    "                data = json.load(file)\n",
    "        \n",
    "    cell_count += data[\"metacells\"][\"n_cells\"]\n",
    "\n",
    "print(f\"{cell_count} cells are in the dataset!\")"
   ]
  },
  {
   "cell_type": "code",
   "execution_count": 10,
   "metadata": {},
   "outputs": [
    {
     "name": "stdout",
     "output_type": "stream",
     "text": [
      "\n",
      "4448154 cells are in the dataset!\n",
      "43\n"
     ]
    }
   ],
   "source": [
    "PATH = \"/hpc/projects/group.califano/GLM/data/cellxgene/data/complete_data\"\n",
    "\n",
    "failed = []\n",
    "cell_count = 0\n",
    "for cell_type in os.listdir(PATH):\n",
    "    try:\n",
    "        with open(f'{PATH}/{cell_type}/info.json', 'r') as file:\n",
    "            data = json.load(file)\n",
    "            \n",
    "        cell_count += data['stats'][\"metacells\"][\"n_cells\"]\n",
    "    except:\n",
    "        failed.append(cell_type)\n",
    "    \n",
    "print(f\"\\n{cell_count} cells are in the dataset!\")\n",
    "print(len(failed))"
   ]
  },
  {
   "cell_type": "code",
   "execution_count": 12,
   "metadata": {},
   "outputs": [
    {
     "data": {
      "text/plain": [
       "37"
      ]
     },
     "execution_count": 12,
     "metadata": {},
     "output_type": "execute_result"
    }
   ],
   "source": [
    "p = \"/hpc/projects/group.califano/GLM/scGraphLLM/scripts/slurm_out/slurm_out_16703767/check_out/failed.txt\"\n",
    "file = open(p, 'r')\n",
    "file_str = \"\".join(file)\n",
    "file.close()\n",
    "\n",
    "count = 0\n",
    "for f in failed:\n",
    "    if f in file_str:\n",
    "        count += 1\n",
    "\n",
    "count"
   ]
  },
  {
   "cell_type": "markdown",
   "metadata": {},
   "source": [
    "## Before preprocessing"
   ]
  },
  {
   "cell_type": "code",
   "execution_count": 1,
   "metadata": {},
   "outputs": [],
   "source": [
    "import os\n",
    "import sys\n",
    "import scanpy as sc\n",
    "import anndata as ad\n",
    "from tqdm import tqdm\n",
    "import contextlib"
   ]
  },
  {
   "cell_type": "code",
   "execution_count": 18,
   "metadata": {},
   "outputs": [
    {
     "data": {
      "text/plain": [
       "(11410, 19221)"
      ]
     },
     "execution_count": 18,
     "metadata": {},
     "output_type": "execute_result"
    }
   ],
   "source": [
    "p = \"/hpc/projects/group.califano/GLM/data/cellxgene/data/cell_type_all/abnormal_cell/partitions/pan-cancer_0.h5ad\"\n",
    "\n",
    "adata = sc.read_h5ad(p)\n",
    "adata.X.toarray().shape"
   ]
  },
  {
   "cell_type": "code",
   "execution_count": 19,
   "metadata": {},
   "outputs": [
    {
     "name": "stderr",
     "output_type": "stream",
     "text": [
      "  1%|▏         | 9/666 [00:06<08:15,  1.32it/s]\n"
     ]
    },
    {
     "ename": "KeyboardInterrupt",
     "evalue": "",
     "output_type": "error",
     "traceback": [
      "\u001b[0;31m---------------------------------------------------------------------------\u001b[0m",
      "\u001b[0;31mKeyboardInterrupt\u001b[0m                         Traceback (most recent call last)",
      "Cell \u001b[0;32mIn[19], line 7\u001b[0m\n\u001b[1;32m      4\u001b[0m \u001b[38;5;28;01mfor\u001b[39;00m d \u001b[38;5;129;01min\u001b[39;00m tqdm(os\u001b[38;5;241m.\u001b[39mlistdir(p)):\n\u001b[1;32m      5\u001b[0m     \u001b[38;5;28;01mfor\u001b[39;00m h \u001b[38;5;129;01min\u001b[39;00m os\u001b[38;5;241m.\u001b[39mlistdir(\u001b[38;5;124mf\u001b[39m\u001b[38;5;124m'\u001b[39m\u001b[38;5;132;01m{\u001b[39;00mp\u001b[38;5;132;01m}\u001b[39;00m\u001b[38;5;124m/\u001b[39m\u001b[38;5;132;01m{\u001b[39;00md\u001b[38;5;132;01m}\u001b[39;00m\u001b[38;5;124m/partitions\u001b[39m\u001b[38;5;124m'\u001b[39m):\n\u001b[1;32m      6\u001b[0m         \u001b[38;5;66;03m# Look through all the h5ad files and check number of cells (rows in GEMs)\u001b[39;00m\n\u001b[0;32m----> 7\u001b[0m         adata \u001b[38;5;241m=\u001b[39m \u001b[43msc\u001b[49m\u001b[38;5;241;43m.\u001b[39;49m\u001b[43mread_h5ad\u001b[49m\u001b[43m(\u001b[49m\u001b[38;5;124;43mf\u001b[39;49m\u001b[38;5;124;43m'\u001b[39;49m\u001b[38;5;132;43;01m{\u001b[39;49;00m\u001b[43mp\u001b[49m\u001b[38;5;132;43;01m}\u001b[39;49;00m\u001b[38;5;124;43m/\u001b[39;49m\u001b[38;5;132;43;01m{\u001b[39;49;00m\u001b[43md\u001b[49m\u001b[38;5;132;43;01m}\u001b[39;49;00m\u001b[38;5;124;43m/partitions/\u001b[39;49m\u001b[38;5;132;43;01m{\u001b[39;49;00m\u001b[43mh\u001b[49m\u001b[38;5;132;43;01m}\u001b[39;49;00m\u001b[38;5;124;43m'\u001b[39;49m\u001b[43m)\u001b[49m\n\u001b[1;32m      8\u001b[0m         count \u001b[38;5;241m+\u001b[39m\u001b[38;5;241m=\u001b[39m adata\u001b[38;5;241m.\u001b[39mX\u001b[38;5;241m.\u001b[39mshape[\u001b[38;5;241m0\u001b[39m]\n\u001b[1;32m      9\u001b[0m         \u001b[38;5;28;01mdel\u001b[39;00m adata\n",
      "File \u001b[0;32m/hpc/mydata/leo.dupire/anaconda/23.1.0-3/x86_64/envs/scllm/lib/python3.9/site-packages/anndata/_io/h5ad.py:258\u001b[0m, in \u001b[0;36mread_h5ad\u001b[0;34m(filename, backed, as_sparse, as_sparse_fmt, chunk_size)\u001b[0m\n\u001b[1;32m    255\u001b[0m         \u001b[38;5;28;01mreturn\u001b[39;00m read_dataframe(elem)\n\u001b[1;32m    256\u001b[0m     \u001b[38;5;28;01mreturn\u001b[39;00m func(elem)\n\u001b[0;32m--> 258\u001b[0m adata \u001b[38;5;241m=\u001b[39m \u001b[43mread_dispatched\u001b[49m\u001b[43m(\u001b[49m\u001b[43mf\u001b[49m\u001b[43m,\u001b[49m\u001b[43m \u001b[49m\u001b[43mcallback\u001b[49m\u001b[38;5;241;43m=\u001b[39;49m\u001b[43mcallback\u001b[49m\u001b[43m)\u001b[49m\n\u001b[1;32m    260\u001b[0m \u001b[38;5;66;03m# Backwards compat (should figure out which version)\u001b[39;00m\n\u001b[1;32m    261\u001b[0m \u001b[38;5;28;01mif\u001b[39;00m \u001b[38;5;124m\"\u001b[39m\u001b[38;5;124mraw.X\u001b[39m\u001b[38;5;124m\"\u001b[39m \u001b[38;5;129;01min\u001b[39;00m f:\n",
      "File \u001b[0;32m/hpc/mydata/leo.dupire/anaconda/23.1.0-3/x86_64/envs/scllm/lib/python3.9/site-packages/anndata/experimental/_dispatch_io.py:42\u001b[0m, in \u001b[0;36mread_dispatched\u001b[0;34m(elem, callback)\u001b[0m\n\u001b[1;32m     38\u001b[0m \u001b[38;5;28;01mfrom\u001b[39;00m \u001b[38;5;21;01manndata\u001b[39;00m\u001b[38;5;21;01m.\u001b[39;00m\u001b[38;5;21;01m_io\u001b[39;00m\u001b[38;5;21;01m.\u001b[39;00m\u001b[38;5;21;01mspecs\u001b[39;00m \u001b[38;5;28;01mimport\u001b[39;00m _REGISTRY, Reader\n\u001b[1;32m     40\u001b[0m reader \u001b[38;5;241m=\u001b[39m Reader(_REGISTRY, callback\u001b[38;5;241m=\u001b[39mcallback)\n\u001b[0;32m---> 42\u001b[0m \u001b[38;5;28;01mreturn\u001b[39;00m \u001b[43mreader\u001b[49m\u001b[38;5;241;43m.\u001b[39;49m\u001b[43mread_elem\u001b[49m\u001b[43m(\u001b[49m\u001b[43melem\u001b[49m\u001b[43m)\u001b[49m\n",
      "File \u001b[0;32m/hpc/mydata/leo.dupire/anaconda/23.1.0-3/x86_64/envs/scllm/lib/python3.9/site-packages/anndata/_io/utils.py:211\u001b[0m, in \u001b[0;36mreport_read_key_on_error.<locals>.func_wrapper\u001b[0;34m(*args, **kwargs)\u001b[0m\n\u001b[1;32m    209\u001b[0m     \u001b[38;5;28;01mraise\u001b[39;00m \u001b[38;5;167;01mValueError\u001b[39;00m(\u001b[38;5;124m\"\u001b[39m\u001b[38;5;124mNo element found in args.\u001b[39m\u001b[38;5;124m\"\u001b[39m)\n\u001b[1;32m    210\u001b[0m \u001b[38;5;28;01mtry\u001b[39;00m:\n\u001b[0;32m--> 211\u001b[0m     \u001b[38;5;28;01mreturn\u001b[39;00m \u001b[43mfunc\u001b[49m\u001b[43m(\u001b[49m\u001b[38;5;241;43m*\u001b[39;49m\u001b[43margs\u001b[49m\u001b[43m,\u001b[49m\u001b[43m \u001b[49m\u001b[38;5;241;43m*\u001b[39;49m\u001b[38;5;241;43m*\u001b[39;49m\u001b[43mkwargs\u001b[49m\u001b[43m)\u001b[49m\n\u001b[1;32m    212\u001b[0m \u001b[38;5;28;01mexcept\u001b[39;00m \u001b[38;5;167;01mException\u001b[39;00m \u001b[38;5;28;01mas\u001b[39;00m e:\n\u001b[1;32m    213\u001b[0m     path, key \u001b[38;5;241m=\u001b[39m _get_display_path(store)\u001b[38;5;241m.\u001b[39mrsplit(\u001b[38;5;124m\"\u001b[39m\u001b[38;5;124m/\u001b[39m\u001b[38;5;124m\"\u001b[39m, \u001b[38;5;241m1\u001b[39m)\n",
      "File \u001b[0;32m/hpc/mydata/leo.dupire/anaconda/23.1.0-3/x86_64/envs/scllm/lib/python3.9/site-packages/anndata/_io/specs/registry.py:275\u001b[0m, in \u001b[0;36mReader.read_elem\u001b[0;34m(self, elem, modifiers)\u001b[0m\n\u001b[1;32m    273\u001b[0m \u001b[38;5;28;01mif\u001b[39;00m \u001b[38;5;28mself\u001b[39m\u001b[38;5;241m.\u001b[39mcallback \u001b[38;5;129;01mis\u001b[39;00m \u001b[38;5;28;01mNone\u001b[39;00m:\n\u001b[1;32m    274\u001b[0m     \u001b[38;5;28;01mreturn\u001b[39;00m read_func(elem)\n\u001b[0;32m--> 275\u001b[0m \u001b[38;5;28;01mreturn\u001b[39;00m \u001b[38;5;28;43mself\u001b[39;49m\u001b[38;5;241;43m.\u001b[39;49m\u001b[43mcallback\u001b[49m\u001b[43m(\u001b[49m\u001b[43mread_func\u001b[49m\u001b[43m,\u001b[49m\u001b[43m \u001b[49m\u001b[43melem\u001b[49m\u001b[38;5;241;43m.\u001b[39;49m\u001b[43mname\u001b[49m\u001b[43m,\u001b[49m\u001b[43m \u001b[49m\u001b[43melem\u001b[49m\u001b[43m,\u001b[49m\u001b[43m \u001b[49m\u001b[43miospec\u001b[49m\u001b[38;5;241;43m=\u001b[39;49m\u001b[43miospec\u001b[49m\u001b[43m)\u001b[49m\n",
      "File \u001b[0;32m/hpc/mydata/leo.dupire/anaconda/23.1.0-3/x86_64/envs/scllm/lib/python3.9/site-packages/anndata/_io/h5ad.py:239\u001b[0m, in \u001b[0;36mread_h5ad.<locals>.callback\u001b[0;34m(func, elem_name, elem, iospec)\u001b[0m\n\u001b[1;32m    236\u001b[0m \u001b[38;5;28;01mdef\u001b[39;00m \u001b[38;5;21mcallback\u001b[39m(func, elem_name: \u001b[38;5;28mstr\u001b[39m, elem, iospec):\n\u001b[1;32m    237\u001b[0m     \u001b[38;5;28;01mif\u001b[39;00m iospec\u001b[38;5;241m.\u001b[39mencoding_type \u001b[38;5;241m==\u001b[39m \u001b[38;5;124m\"\u001b[39m\u001b[38;5;124manndata\u001b[39m\u001b[38;5;124m\"\u001b[39m \u001b[38;5;129;01mor\u001b[39;00m elem_name\u001b[38;5;241m.\u001b[39mendswith(\u001b[38;5;124m\"\u001b[39m\u001b[38;5;124m/\u001b[39m\u001b[38;5;124m\"\u001b[39m):\n\u001b[1;32m    238\u001b[0m         \u001b[38;5;28;01mreturn\u001b[39;00m AnnData(\n\u001b[0;32m--> 239\u001b[0m             \u001b[38;5;241m*\u001b[39m\u001b[38;5;241m*\u001b[39m{\n\u001b[1;32m    240\u001b[0m                 \u001b[38;5;66;03m# This is covering up backwards compat in the anndata initializer\u001b[39;00m\n\u001b[1;32m    241\u001b[0m                 \u001b[38;5;66;03m# In most cases we should be able to call `func(elen[k])` instead\u001b[39;00m\n\u001b[1;32m    242\u001b[0m                 k: read_dispatched(elem[k], callback)\n\u001b[1;32m    243\u001b[0m                 \u001b[38;5;28;01mfor\u001b[39;00m k \u001b[38;5;129;01min\u001b[39;00m elem\u001b[38;5;241m.\u001b[39mkeys()\n\u001b[1;32m    244\u001b[0m                 \u001b[38;5;28;01mif\u001b[39;00m \u001b[38;5;129;01mnot\u001b[39;00m k\u001b[38;5;241m.\u001b[39mstartswith(\u001b[38;5;124m\"\u001b[39m\u001b[38;5;124mraw.\u001b[39m\u001b[38;5;124m\"\u001b[39m)\n\u001b[1;32m    245\u001b[0m             }\n\u001b[1;32m    246\u001b[0m         )\n\u001b[1;32m    247\u001b[0m     \u001b[38;5;28;01melif\u001b[39;00m elem_name\u001b[38;5;241m.\u001b[39mstartswith(\u001b[38;5;124m\"\u001b[39m\u001b[38;5;124m/raw.\u001b[39m\u001b[38;5;124m\"\u001b[39m):\n\u001b[1;32m    248\u001b[0m         \u001b[38;5;28;01mreturn\u001b[39;00m \u001b[38;5;28;01mNone\u001b[39;00m\n",
      "File \u001b[0;32m/hpc/mydata/leo.dupire/anaconda/23.1.0-3/x86_64/envs/scllm/lib/python3.9/site-packages/anndata/_io/h5ad.py:242\u001b[0m, in \u001b[0;36m<dictcomp>\u001b[0;34m(.0)\u001b[0m\n\u001b[1;32m    236\u001b[0m \u001b[38;5;28;01mdef\u001b[39;00m \u001b[38;5;21mcallback\u001b[39m(func, elem_name: \u001b[38;5;28mstr\u001b[39m, elem, iospec):\n\u001b[1;32m    237\u001b[0m     \u001b[38;5;28;01mif\u001b[39;00m iospec\u001b[38;5;241m.\u001b[39mencoding_type \u001b[38;5;241m==\u001b[39m \u001b[38;5;124m\"\u001b[39m\u001b[38;5;124manndata\u001b[39m\u001b[38;5;124m\"\u001b[39m \u001b[38;5;129;01mor\u001b[39;00m elem_name\u001b[38;5;241m.\u001b[39mendswith(\u001b[38;5;124m\"\u001b[39m\u001b[38;5;124m/\u001b[39m\u001b[38;5;124m\"\u001b[39m):\n\u001b[1;32m    238\u001b[0m         \u001b[38;5;28;01mreturn\u001b[39;00m AnnData(\n\u001b[1;32m    239\u001b[0m             \u001b[38;5;241m*\u001b[39m\u001b[38;5;241m*\u001b[39m{\n\u001b[1;32m    240\u001b[0m                 \u001b[38;5;66;03m# This is covering up backwards compat in the anndata initializer\u001b[39;00m\n\u001b[1;32m    241\u001b[0m                 \u001b[38;5;66;03m# In most cases we should be able to call `func(elen[k])` instead\u001b[39;00m\n\u001b[0;32m--> 242\u001b[0m                 k: \u001b[43mread_dispatched\u001b[49m\u001b[43m(\u001b[49m\u001b[43melem\u001b[49m\u001b[43m[\u001b[49m\u001b[43mk\u001b[49m\u001b[43m]\u001b[49m\u001b[43m,\u001b[49m\u001b[43m \u001b[49m\u001b[43mcallback\u001b[49m\u001b[43m)\u001b[49m\n\u001b[1;32m    243\u001b[0m                 \u001b[38;5;28;01mfor\u001b[39;00m k \u001b[38;5;129;01min\u001b[39;00m elem\u001b[38;5;241m.\u001b[39mkeys()\n\u001b[1;32m    244\u001b[0m                 \u001b[38;5;28;01mif\u001b[39;00m \u001b[38;5;129;01mnot\u001b[39;00m k\u001b[38;5;241m.\u001b[39mstartswith(\u001b[38;5;124m\"\u001b[39m\u001b[38;5;124mraw.\u001b[39m\u001b[38;5;124m\"\u001b[39m)\n\u001b[1;32m    245\u001b[0m             }\n\u001b[1;32m    246\u001b[0m         )\n\u001b[1;32m    247\u001b[0m     \u001b[38;5;28;01melif\u001b[39;00m elem_name\u001b[38;5;241m.\u001b[39mstartswith(\u001b[38;5;124m\"\u001b[39m\u001b[38;5;124m/raw.\u001b[39m\u001b[38;5;124m\"\u001b[39m):\n\u001b[1;32m    248\u001b[0m         \u001b[38;5;28;01mreturn\u001b[39;00m \u001b[38;5;28;01mNone\u001b[39;00m\n",
      "File \u001b[0;32m/hpc/mydata/leo.dupire/anaconda/23.1.0-3/x86_64/envs/scllm/lib/python3.9/site-packages/anndata/experimental/_dispatch_io.py:42\u001b[0m, in \u001b[0;36mread_dispatched\u001b[0;34m(elem, callback)\u001b[0m\n\u001b[1;32m     38\u001b[0m \u001b[38;5;28;01mfrom\u001b[39;00m \u001b[38;5;21;01manndata\u001b[39;00m\u001b[38;5;21;01m.\u001b[39;00m\u001b[38;5;21;01m_io\u001b[39;00m\u001b[38;5;21;01m.\u001b[39;00m\u001b[38;5;21;01mspecs\u001b[39;00m \u001b[38;5;28;01mimport\u001b[39;00m _REGISTRY, Reader\n\u001b[1;32m     40\u001b[0m reader \u001b[38;5;241m=\u001b[39m Reader(_REGISTRY, callback\u001b[38;5;241m=\u001b[39mcallback)\n\u001b[0;32m---> 42\u001b[0m \u001b[38;5;28;01mreturn\u001b[39;00m \u001b[43mreader\u001b[49m\u001b[38;5;241;43m.\u001b[39;49m\u001b[43mread_elem\u001b[49m\u001b[43m(\u001b[49m\u001b[43melem\u001b[49m\u001b[43m)\u001b[49m\n",
      "File \u001b[0;32m/hpc/mydata/leo.dupire/anaconda/23.1.0-3/x86_64/envs/scllm/lib/python3.9/site-packages/anndata/_io/utils.py:211\u001b[0m, in \u001b[0;36mreport_read_key_on_error.<locals>.func_wrapper\u001b[0;34m(*args, **kwargs)\u001b[0m\n\u001b[1;32m    209\u001b[0m     \u001b[38;5;28;01mraise\u001b[39;00m \u001b[38;5;167;01mValueError\u001b[39;00m(\u001b[38;5;124m\"\u001b[39m\u001b[38;5;124mNo element found in args.\u001b[39m\u001b[38;5;124m\"\u001b[39m)\n\u001b[1;32m    210\u001b[0m \u001b[38;5;28;01mtry\u001b[39;00m:\n\u001b[0;32m--> 211\u001b[0m     \u001b[38;5;28;01mreturn\u001b[39;00m \u001b[43mfunc\u001b[49m\u001b[43m(\u001b[49m\u001b[38;5;241;43m*\u001b[39;49m\u001b[43margs\u001b[49m\u001b[43m,\u001b[49m\u001b[43m \u001b[49m\u001b[38;5;241;43m*\u001b[39;49m\u001b[38;5;241;43m*\u001b[39;49m\u001b[43mkwargs\u001b[49m\u001b[43m)\u001b[49m\n\u001b[1;32m    212\u001b[0m \u001b[38;5;28;01mexcept\u001b[39;00m \u001b[38;5;167;01mException\u001b[39;00m \u001b[38;5;28;01mas\u001b[39;00m e:\n\u001b[1;32m    213\u001b[0m     path, key \u001b[38;5;241m=\u001b[39m _get_display_path(store)\u001b[38;5;241m.\u001b[39mrsplit(\u001b[38;5;124m\"\u001b[39m\u001b[38;5;124m/\u001b[39m\u001b[38;5;124m\"\u001b[39m, \u001b[38;5;241m1\u001b[39m)\n",
      "File \u001b[0;32m/hpc/mydata/leo.dupire/anaconda/23.1.0-3/x86_64/envs/scllm/lib/python3.9/site-packages/anndata/_io/specs/registry.py:275\u001b[0m, in \u001b[0;36mReader.read_elem\u001b[0;34m(self, elem, modifiers)\u001b[0m\n\u001b[1;32m    273\u001b[0m \u001b[38;5;28;01mif\u001b[39;00m \u001b[38;5;28mself\u001b[39m\u001b[38;5;241m.\u001b[39mcallback \u001b[38;5;129;01mis\u001b[39;00m \u001b[38;5;28;01mNone\u001b[39;00m:\n\u001b[1;32m    274\u001b[0m     \u001b[38;5;28;01mreturn\u001b[39;00m read_func(elem)\n\u001b[0;32m--> 275\u001b[0m \u001b[38;5;28;01mreturn\u001b[39;00m \u001b[38;5;28;43mself\u001b[39;49m\u001b[38;5;241;43m.\u001b[39;49m\u001b[43mcallback\u001b[49m\u001b[43m(\u001b[49m\u001b[43mread_func\u001b[49m\u001b[43m,\u001b[49m\u001b[43m \u001b[49m\u001b[43melem\u001b[49m\u001b[38;5;241;43m.\u001b[39;49m\u001b[43mname\u001b[49m\u001b[43m,\u001b[49m\u001b[43m \u001b[49m\u001b[43melem\u001b[49m\u001b[43m,\u001b[49m\u001b[43m \u001b[49m\u001b[43miospec\u001b[49m\u001b[38;5;241;43m=\u001b[39;49m\u001b[43miospec\u001b[49m\u001b[43m)\u001b[49m\n",
      "File \u001b[0;32m/hpc/mydata/leo.dupire/anaconda/23.1.0-3/x86_64/envs/scllm/lib/python3.9/site-packages/anndata/_io/h5ad.py:256\u001b[0m, in \u001b[0;36mread_h5ad.<locals>.callback\u001b[0;34m(func, elem_name, elem, iospec)\u001b[0m\n\u001b[1;32m    253\u001b[0m \u001b[38;5;28;01melif\u001b[39;00m elem_name \u001b[38;5;129;01min\u001b[39;00m {\u001b[38;5;124m\"\u001b[39m\u001b[38;5;124m/obs\u001b[39m\u001b[38;5;124m\"\u001b[39m, \u001b[38;5;124m\"\u001b[39m\u001b[38;5;124m/var\u001b[39m\u001b[38;5;124m\"\u001b[39m}:\n\u001b[1;32m    254\u001b[0m     \u001b[38;5;66;03m# Backwards compat\u001b[39;00m\n\u001b[1;32m    255\u001b[0m     \u001b[38;5;28;01mreturn\u001b[39;00m read_dataframe(elem)\n\u001b[0;32m--> 256\u001b[0m \u001b[38;5;28;01mreturn\u001b[39;00m \u001b[43mfunc\u001b[49m\u001b[43m(\u001b[49m\u001b[43melem\u001b[49m\u001b[43m)\u001b[49m\n",
      "File \u001b[0;32m/hpc/mydata/leo.dupire/anaconda/23.1.0-3/x86_64/envs/scllm/lib/python3.9/site-packages/anndata/_io/specs/methods.py:724\u001b[0m, in \u001b[0;36mread_sparse\u001b[0;34m(elem, _reader)\u001b[0m\n\u001b[1;32m    719\u001b[0m \u001b[38;5;129m@_REGISTRY\u001b[39m\u001b[38;5;241m.\u001b[39mregister_read(H5Group, IOSpec(\u001b[38;5;124m\"\u001b[39m\u001b[38;5;124mcsc_matrix\u001b[39m\u001b[38;5;124m\"\u001b[39m, \u001b[38;5;124m\"\u001b[39m\u001b[38;5;124m0.1.0\u001b[39m\u001b[38;5;124m\"\u001b[39m))\n\u001b[1;32m    720\u001b[0m \u001b[38;5;129m@_REGISTRY\u001b[39m\u001b[38;5;241m.\u001b[39mregister_read(H5Group, IOSpec(\u001b[38;5;124m\"\u001b[39m\u001b[38;5;124mcsr_matrix\u001b[39m\u001b[38;5;124m\"\u001b[39m, \u001b[38;5;124m\"\u001b[39m\u001b[38;5;124m0.1.0\u001b[39m\u001b[38;5;124m\"\u001b[39m))\n\u001b[1;32m    721\u001b[0m \u001b[38;5;129m@_REGISTRY\u001b[39m\u001b[38;5;241m.\u001b[39mregister_read(ZarrGroup, IOSpec(\u001b[38;5;124m\"\u001b[39m\u001b[38;5;124mcsc_matrix\u001b[39m\u001b[38;5;124m\"\u001b[39m, \u001b[38;5;124m\"\u001b[39m\u001b[38;5;124m0.1.0\u001b[39m\u001b[38;5;124m\"\u001b[39m))\n\u001b[1;32m    722\u001b[0m \u001b[38;5;129m@_REGISTRY\u001b[39m\u001b[38;5;241m.\u001b[39mregister_read(ZarrGroup, IOSpec(\u001b[38;5;124m\"\u001b[39m\u001b[38;5;124mcsr_matrix\u001b[39m\u001b[38;5;124m\"\u001b[39m, \u001b[38;5;124m\"\u001b[39m\u001b[38;5;124m0.1.0\u001b[39m\u001b[38;5;124m\"\u001b[39m))\n\u001b[1;32m    723\u001b[0m \u001b[38;5;28;01mdef\u001b[39;00m \u001b[38;5;21mread_sparse\u001b[39m(elem: GroupStorageType, \u001b[38;5;241m*\u001b[39m, _reader: Reader) \u001b[38;5;241m-\u001b[39m\u001b[38;5;241m>\u001b[39m sparse\u001b[38;5;241m.\u001b[39mspmatrix:\n\u001b[0;32m--> 724\u001b[0m     \u001b[38;5;28;01mreturn\u001b[39;00m \u001b[43msparse_dataset\u001b[49m\u001b[43m(\u001b[49m\u001b[43melem\u001b[49m\u001b[43m)\u001b[49m\u001b[38;5;241;43m.\u001b[39;49m\u001b[43mto_memory\u001b[49m\u001b[43m(\u001b[49m\u001b[43m)\u001b[49m\n",
      "File \u001b[0;32m/hpc/mydata/leo.dupire/anaconda/23.1.0-3/x86_64/envs/scllm/lib/python3.9/site-packages/anndata/_core/sparse_dataset.py:575\u001b[0m, in \u001b[0;36mBaseCompressedSparseDataset.to_memory\u001b[0;34m(self)\u001b[0m\n\u001b[1;32m    573\u001b[0m format_class \u001b[38;5;241m=\u001b[39m get_memory_class(\u001b[38;5;28mself\u001b[39m\u001b[38;5;241m.\u001b[39mformat)\n\u001b[1;32m    574\u001b[0m mtx \u001b[38;5;241m=\u001b[39m format_class(\u001b[38;5;28mself\u001b[39m\u001b[38;5;241m.\u001b[39mshape, dtype\u001b[38;5;241m=\u001b[39m\u001b[38;5;28mself\u001b[39m\u001b[38;5;241m.\u001b[39mdtype)\n\u001b[0;32m--> 575\u001b[0m mtx\u001b[38;5;241m.\u001b[39mdata \u001b[38;5;241m=\u001b[39m \u001b[38;5;28;43mself\u001b[39;49m\u001b[38;5;241;43m.\u001b[39;49m\u001b[43mgroup\u001b[49m\u001b[43m[\u001b[49m\u001b[38;5;124;43m\"\u001b[39;49m\u001b[38;5;124;43mdata\u001b[39;49m\u001b[38;5;124;43m\"\u001b[39;49m\u001b[43m]\u001b[49m\u001b[43m[\u001b[49m\u001b[38;5;241;43m.\u001b[39;49m\u001b[38;5;241;43m.\u001b[39;49m\u001b[38;5;241;43m.\u001b[39;49m\u001b[43m]\u001b[49m\n\u001b[1;32m    576\u001b[0m mtx\u001b[38;5;241m.\u001b[39mindices \u001b[38;5;241m=\u001b[39m \u001b[38;5;28mself\u001b[39m\u001b[38;5;241m.\u001b[39mgroup[\u001b[38;5;124m\"\u001b[39m\u001b[38;5;124mindices\u001b[39m\u001b[38;5;124m\"\u001b[39m][\u001b[38;5;241m.\u001b[39m\u001b[38;5;241m.\u001b[39m\u001b[38;5;241m.\u001b[39m]\n\u001b[1;32m    577\u001b[0m mtx\u001b[38;5;241m.\u001b[39mindptr \u001b[38;5;241m=\u001b[39m \u001b[38;5;28mself\u001b[39m\u001b[38;5;241m.\u001b[39mindptr\n",
      "File \u001b[0;32mh5py/_objects.pyx:54\u001b[0m, in \u001b[0;36mh5py._objects.with_phil.wrapper\u001b[0;34m()\u001b[0m\n",
      "File \u001b[0;32mh5py/_objects.pyx:55\u001b[0m, in \u001b[0;36mh5py._objects.with_phil.wrapper\u001b[0;34m()\u001b[0m\n",
      "File \u001b[0;32m/hpc/mydata/leo.dupire/anaconda/23.1.0-3/x86_64/envs/scllm/lib/python3.9/site-packages/h5py/_hl/dataset.py:758\u001b[0m, in \u001b[0;36mDataset.__getitem__\u001b[0;34m(self, args, new_dtype)\u001b[0m\n\u001b[1;32m    756\u001b[0m \u001b[38;5;28;01mif\u001b[39;00m \u001b[38;5;28mself\u001b[39m\u001b[38;5;241m.\u001b[39m_fast_read_ok \u001b[38;5;129;01mand\u001b[39;00m (new_dtype \u001b[38;5;129;01mis\u001b[39;00m \u001b[38;5;28;01mNone\u001b[39;00m):\n\u001b[1;32m    757\u001b[0m     \u001b[38;5;28;01mtry\u001b[39;00m:\n\u001b[0;32m--> 758\u001b[0m         \u001b[38;5;28;01mreturn\u001b[39;00m \u001b[38;5;28;43mself\u001b[39;49m\u001b[38;5;241;43m.\u001b[39;49m\u001b[43m_fast_reader\u001b[49m\u001b[38;5;241;43m.\u001b[39;49m\u001b[43mread\u001b[49m\u001b[43m(\u001b[49m\u001b[43margs\u001b[49m\u001b[43m)\u001b[49m\n\u001b[1;32m    759\u001b[0m     \u001b[38;5;28;01mexcept\u001b[39;00m \u001b[38;5;167;01mTypeError\u001b[39;00m:\n\u001b[1;32m    760\u001b[0m         \u001b[38;5;28;01mpass\u001b[39;00m  \u001b[38;5;66;03m# Fall back to Python read pathway below\u001b[39;00m\n",
      "\u001b[0;31mKeyboardInterrupt\u001b[0m: "
     ]
    }
   ],
   "source": [
    "p = \"/hpc/projects/group.califano/GLM/data/cellxgene/data/cell_type_all\"\n",
    "\n",
    "count = 0\n",
    "for d in tqdm(os.listdir(p)):\n",
    "    for h in os.listdir(f'{p}/{d}/partitions'):\n",
    "        # Look through all the h5ad files and check number of cells (rows in GEMs)\n",
    "        adata = sc.read_h5ad(f'{p}/{d}/partitions/{h}')\n",
    "        count += adata.X.shape[0]\n",
    "        del adata\n",
    "        \n",
    "count"
   ]
  },
  {
   "cell_type": "markdown",
   "metadata": {},
   "source": [
    "174,872,658"
   ]
  },
  {
   "cell_type": "markdown",
   "metadata": {},
   "source": []
  },
  {
   "cell_type": "code",
   "execution_count": 6,
   "metadata": {},
   "outputs": [
    {
     "name": "stderr",
     "output_type": "stream",
     "text": [
      "100%|██████████| 261/261 [21:19<00:00,  4.90s/it]\n"
     ]
    },
    {
     "data": {
      "text/plain": [
       "113692215"
      ]
     },
     "execution_count": 6,
     "metadata": {},
     "output_type": "execute_result"
    }
   ],
   "source": [
    "run = \"16703767\"\n",
    "\n",
    "success_file = open(f\"/hpc/projects/group.califano/GLM/scGraphLLM/scripts/slurm_out/slurm_out_{run}/check_out/success.txt\", \"r\")\n",
    "success_file = [dir[:-1] for dir in success_file]\n",
    "\n",
    "p = \"/hpc/projects/group.califano/GLM/data/cellxgene/data/cell_type_all\"\n",
    "count = 0\n",
    "for d in tqdm(success_file):\n",
    "    for h in os.listdir(f'{p}/{d}/partitions'):\n",
    "        # Look through all the h5ad files and check number of cells (rows in GEMs)\n",
    "        adata = sc.read_h5ad(f'{p}/{d}/partitions/{h}')\n",
    "        count += adata.X.shape[0]\n",
    "\n",
    "count"
   ]
  },
  {
   "cell_type": "markdown",
   "metadata": {},
   "source": [
    "113,692,215"
   ]
  },
  {
   "cell_type": "markdown",
   "metadata": {},
   "source": [
    "Check number of cells in the successfully loaded cell-types (before processing) - does this match after processing?"
   ]
  },
  {
   "cell_type": "markdown",
   "metadata": {},
   "source": [
    "## Filter corrupted files in cache"
   ]
  },
  {
   "cell_type": "code",
   "execution_count": 1,
   "metadata": {},
   "outputs": [],
   "source": [
    "import os\n",
    "import shutil\n",
    "import torch"
   ]
  },
  {
   "cell_type": "code",
   "execution_count": 2,
   "metadata": {},
   "outputs": [],
   "source": [
    "SOURCE_PATH = \"/hpc/projects/group.califano/GLM/data/pilotdata_1024\"\n",
    "\n",
    "os.makedirs(f\"{SOURCE_PATH}_filtered\", exist_ok=True)\n",
    "for SET in [\"train\", \"valHG\", \"valSG\"]:\n",
    "    os.makedirs(f\"{SOURCE_PATH}_filtered/{SET}\", exist_ok=True)\n",
    "    for dr in os.listdir(f\"{SOURCE_PATH}/{SET}\"):\n",
    "        try:\n",
    "            torch.load(f\"{SOURCE_PATH}/{SET}/{dr}\")\n",
    "            shutil.copy(f\"{SOURCE_PATH}/{SET}/{dr}\", f\"{SOURCE_PATH}_filtered/{SET}/{dr}\")\n",
    "        except:\n",
    "            continue"
   ]
  },
  {
   "cell_type": "code",
   "execution_count": 3,
   "metadata": {},
   "outputs": [
    {
     "data": {
      "text/plain": [
       "Data(x=[1293, 2], edge_index=[2, 3248], edge_weight=[3248])"
      ]
     },
     "execution_count": 3,
     "metadata": {},
     "output_type": "execute_result"
    }
   ],
   "source": [
    "p = \"/hpc/projects/group.califano/GLM/data/pilotdata_1024_filtered/train/aracne_1024_0.pt\"\n",
    "data = torch.load(p)\n",
    "data"
   ]
  },
  {
   "cell_type": "code",
   "execution_count": 12,
   "metadata": {},
   "outputs": [
    {
     "data": {
      "text/plain": [
       "tensor([[ 9502, 19249],\n",
       "        [ 3928, 19249],\n",
       "        [ 2326, 19249],\n",
       "        ...,\n",
       "        [14958, 19249],\n",
       "        [ 8995, 19249],\n",
       "        [17559, 19249]])"
      ]
     },
     "execution_count": 12,
     "metadata": {},
     "output_type": "execute_result"
    }
   ],
   "source": [
    "data.x"
   ]
  },
  {
   "cell_type": "markdown",
   "metadata": {},
   "source": [
    "## Truc"
   ]
  },
  {
   "cell_type": "code",
   "execution_count": 9,
   "metadata": {},
   "outputs": [
    {
     "name": "stdout",
     "output_type": "stream",
     "text": [
      "90\n",
      "16\n"
     ]
    }
   ],
   "source": [
    "f0 = open(\"/hpc/projects/group.califano/GLM/types0.txt\", 'r')\n",
    "f1 = open(\"/hpc/projects/group.califano/GLM/types1.txt\", 'r')\n",
    "\n",
    "file0 = []\n",
    "for row in f0:\n",
    "    a, b = row.split()\n",
    "    file0.append(a)\n",
    "    file0.append(b)\n",
    "\n",
    "file1 = []\n",
    "for row in f1:\n",
    "    a, b = row.split()\n",
    "    file1.append(a)\n",
    "    file1.append(b)\n",
    "  \n",
    "notin0 = []\n",
    "for tp in file1:\n",
    "    if tp not in file0:\n",
    "        notin0.append(tp)\n",
    "\n",
    "print(len(notin0))\n",
    "\n",
    "notin1 = []\n",
    "for tp in file0:\n",
    "    if tp not in file1:\n",
    "        notin1.append(tp)\n",
    "\n",
    "print(len(notin1))"
   ]
  },
  {
   "cell_type": "code",
   "execution_count": 14,
   "metadata": {},
   "outputs": [
    {
     "name": "stdout",
     "output_type": "stream",
     "text": [
      "Not in original:\n",
      "['abnormal_cell', 'absorptive_cell', 'l2_3-6_intratelencephalic_projecting_glutamatergic_neuron', 'l2_3_intratelencephalic_projecting_glutamatergic_neuron', 'l4_intratelencephalic_projecting_glutamatergic_neuron', 'l5_6_near-projecting_glutamatergic_neuron', 'activated_cd8-positive_alpha-beta_t_cell_human', 'adipocyte', 'lactocyte', 'airway_submucosal_gland_duct_basal_cell', 'luminal_adaptive_secretory_precursor_cell_of_mammary_gland', 'luminal_hormone-sensing_cell_of_mammary_gland', 'lung_interstitial_macrophage', 'lung_perichondrial_fibroblast', 'lung_resident_memory_cd4-positive_alpha-beta_t_cell', 'lung_resident_memory_cd8-positive_alpha-beta_t_cell', 'blood_cell', 'blood_vessel_smooth_muscle_cell', 'brain_vascular_cell', 'mature_astrocyte', 'mature_gamma-delta_t_cell', 'mature_microglial_cell', 'cd14-low_cd16-positive_monocyte', 'cd14-positive_cd16-negative_classical_monocyte', 'memory_regulatory_t_cell', 'cd34-positive_cd38-negative_hematopoietic_stem_cell', 'cd38-negative_naive_b_cell', 'metallothionein-positive_alveolar_macrophage', 'midget_ganglion_cell_of_retina', 'cd8-positive_alpha-beta_cytokine_secreting_effector_t_cell', 'monocyte-derived_dendritic_cell', 'cerebral_cortex_gabaergic_interneuron', 'myelinating_schwann_cell', 'cerebral_cortex_neuron', 'myoblast', 'neoplastic_cell', 'cone_retinal_bipolar_cell', 'cortical_interneuron', 'non-myelinating_schwann_cell', 'deuterosomal_cell', 'offx_cell', 'diffuse_bipolar_1_cell', 'diffuse_bipolar_2_cell', 'diffuse_bipolar_3a_cell', 'diffuse_bipolar_3b_cell', 'on-blue_cone_bipolar_cell', 'diffuse_bipolar_4_cell', 'diffuse_bipolar_6_cell', 'double_negative_t_regulatory_cell', 'pancreatic_endocrine_cell', 'parasol_ganglion_cell_of_retina', 'peripheral_blood_mononuclear_cell', 'perivascular_cell', 'preadipocyte', 'enucleated_reticulocyte', 'primary_sensory_neuron_sensu_teleostei', 'erythroid_progenitor_cell_mammalian', 'respiratory_suprabasal_cell', 'retinal_astrocyte', 'flat_midget_bipolar_cell', 'forebrain_neuroblast', 'sebum_secreting_cell', 'gabaergic_interneuron', 'sensory_neuron', 'giant_bipolar_cell', 'serous_secreting_cell_of_bronchus_submucosal_gland', 'group_2_innate_lymphoid_cell_human', 'smooth_muscle_cell_of_the_pulmonary_artery', 'h1_horizontal_cell', 'sst_chodl_gabaergic_cortical_interneuron', 'h2_horizontal_cell', 'stromal_cell_of_endometrium', 'hepatic_pit_cell', 'subcutaneous_adipocyte', 'suprabasal_keratinocyte', 'iga_plasmablast', 'igg_memory_b_cell', 'igg-negative_class_switched_memory_b_cell', 'igg_plasmablast', 'tc1_cell', 'ilc1_human', 'immature_neutrophil', 't-helper_22_cell', 'immature_nk_t_cell', 't-helper_2_cell', 'transitional_stage_b_cell', 'type_a_enteroendocrine_cell', 'invaginating_midget_bipolar_cell', 'unknown', 'kidney_interstitial_alternatively_activated_macrophage']\n"
     ]
    }
   ],
   "source": [
    "print(\"Not in original:\")\n",
    "print(notin0)"
   ]
  },
  {
   "cell_type": "code",
   "execution_count": 13,
   "metadata": {},
   "outputs": [
    {
     "name": "stdout",
     "output_type": "stream",
     "text": [
      "\n",
      "Not in new:\n"
     ]
    },
    {
     "data": {
      "text/plain": [
       "['l2_3-6_intratelencephalic_projecting_glutamatergic_cortical_neuron',\n",
       " 'animal_cell',\n",
       " 'mammary_alveolar_cell',\n",
       " 'native_cell',\n",
       " 'neuronal_brush_cell',\n",
       " 'neuron_associated_cell_sensu_vertebrata',\n",
       " 'dopaminergic_neuron',\n",
       " 'phagocyte',\n",
       " 'primary_sensory_neuron',\n",
       " 'purkinje_cell',\n",
       " 'eukaryotic_cell',\n",
       " 'fat_cell',\n",
       " 'granule_cell',\n",
       " 'somatic_cell',\n",
       " 'stellate_neuron',\n",
       " 'subcutaneous_fat_cell']"
      ]
     },
     "execution_count": 13,
     "metadata": {},
     "output_type": "execute_result"
    }
   ],
   "source": [
    "print(\"\\nNot in new:\")\n",
    "notin1"
   ]
  },
  {
   "cell_type": "code",
   "execution_count": 2,
   "metadata": {},
   "outputs": [
    {
     "name": "stdout",
     "output_type": "stream",
     "text": [
      "2476737 1064478 405631\n"
     ]
    },
    {
     "data": {
      "text/plain": [
       "3946846"
      ]
     },
     "execution_count": 2,
     "metadata": {},
     "output_type": "execute_result"
    }
   ],
   "source": [
    "import os\n",
    "\n",
    "t = len(os.listdir(\"/hpc/projects/group.califano/GLM/data/cxg_cache_2048/train\"))\n",
    "sg = len(os.listdir(\"/hpc/projects/group.califano/GLM/data/cxg_cache_2048/valSG\"))\n",
    "hog = len(os.listdir(\"/hpc/projects/group.califano/GLM/data/cxg_cache_2048/valHOG\"))\n",
    "\n",
    "print(t, sg, hog)\n",
    "t + sg + hog"
   ]
  },
  {
   "cell_type": "code",
   "execution_count": null,
   "metadata": {},
   "outputs": [],
   "source": [
    "import os\n",
    "\n",
    "# Specify the file path\n",
    "file_path = \"/hpc/projects/group.califano/GLM/data/cellxgene/data/complete_data_ranked_z_score\"\n",
    "\n",
    "# Check if the file exists before removing\n",
    "if os.path.exists(file_path):\n",
    "    os.remove(file_path)\n",
    "    print(f\"{file_path} has been removed.\")\n",
    "else:\n",
    "    print(f\"{file_path} does not exist.\")"
   ]
  }
 ],
 "metadata": {
  "kernelspec": {
   "display_name": "scllm",
   "language": "python",
   "name": "python3"
  },
  "language_info": {
   "codemirror_mode": {
    "name": "ipython",
    "version": 3
   },
   "file_extension": ".py",
   "mimetype": "text/x-python",
   "name": "python",
   "nbconvert_exporter": "python",
   "pygments_lexer": "ipython3",
   "version": "3.9.10"
  }
 },
 "nbformat": 4,
 "nbformat_minor": 2
}
