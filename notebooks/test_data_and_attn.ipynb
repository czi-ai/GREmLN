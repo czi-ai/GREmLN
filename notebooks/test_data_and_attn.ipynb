{
 "cells": [
  {
   "cell_type": "code",
   "execution_count": 1,
   "metadata": {},
   "outputs": [],
   "source": [
    "import sys\n",
    "sys.path.append(\"../\")"
   ]
  },
  {
   "cell_type": "code",
   "execution_count": 2,
   "metadata": {},
   "outputs": [],
   "source": [
    "from scGraphLLM.utils import node_batching\n",
    "import pandas as pd\n",
    "import numpy as np\n",
    "import scanpy as sc "
   ]
  },
  {
   "cell_type": "code",
   "execution_count": 3,
   "metadata": {},
   "outputs": [
    {
     "name": "stdout",
     "output_type": "stream",
     "text": [
      "2.2.0\n"
     ]
    }
   ],
   "source": [
    "import torch\n",
    "print(torch.__version__)"
   ]
  },
  {
   "cell_type": "markdown",
   "metadata": {},
   "source": [
    "# Test Neighborhood Batching"
   ]
  },
  {
   "cell_type": "code",
   "execution_count": 4,
   "metadata": {},
   "outputs": [
    {
     "data": {
      "text/html": [
       "<div>\n",
       "<style scoped>\n",
       "    .dataframe tbody tr th:only-of-type {\n",
       "        vertical-align: middle;\n",
       "    }\n",
       "\n",
       "    .dataframe tbody tr th {\n",
       "        vertical-align: top;\n",
       "    }\n",
       "\n",
       "    .dataframe thead th {\n",
       "        text-align: right;\n",
       "    }\n",
       "</style>\n",
       "<table border=\"1\" class=\"dataframe\">\n",
       "  <thead>\n",
       "    <tr style=\"text-align: right;\">\n",
       "      <th></th>\n",
       "      <th>regulator.values</th>\n",
       "      <th>target.values</th>\n",
       "      <th>mi.values</th>\n",
       "      <th>scc.values</th>\n",
       "      <th>count.values</th>\n",
       "      <th>log.p.values</th>\n",
       "    </tr>\n",
       "  </thead>\n",
       "  <tbody>\n",
       "    <tr>\n",
       "      <th>0</th>\n",
       "      <td>ZMYND15</td>\n",
       "      <td>BAMBI</td>\n",
       "      <td>0.010403</td>\n",
       "      <td>0.210074</td>\n",
       "      <td>1</td>\n",
       "      <td>-5.95313</td>\n",
       "    </tr>\n",
       "    <tr>\n",
       "      <th>1</th>\n",
       "      <td>ZMYND15</td>\n",
       "      <td>MMP23B</td>\n",
       "      <td>0.000566</td>\n",
       "      <td>0.004131</td>\n",
       "      <td>1</td>\n",
       "      <td>-5.95313</td>\n",
       "    </tr>\n",
       "    <tr>\n",
       "      <th>2</th>\n",
       "      <td>ZMYND15</td>\n",
       "      <td>CDC25C</td>\n",
       "      <td>0.019265</td>\n",
       "      <td>-0.222711</td>\n",
       "      <td>1</td>\n",
       "      <td>-5.95313</td>\n",
       "    </tr>\n",
       "    <tr>\n",
       "      <th>3</th>\n",
       "      <td>ZMYND15</td>\n",
       "      <td>UACA</td>\n",
       "      <td>0.001546</td>\n",
       "      <td>0.051827</td>\n",
       "      <td>1</td>\n",
       "      <td>-5.95313</td>\n",
       "    </tr>\n",
       "    <tr>\n",
       "      <th>4</th>\n",
       "      <td>ZMYND15</td>\n",
       "      <td>TCEA3</td>\n",
       "      <td>0.000566</td>\n",
       "      <td>0.048722</td>\n",
       "      <td>1</td>\n",
       "      <td>-5.95313</td>\n",
       "    </tr>\n",
       "  </tbody>\n",
       "</table>\n",
       "</div>"
      ],
      "text/plain": [
       "  regulator.values target.values  mi.values  scc.values  count.values  \\\n",
       "0          ZMYND15         BAMBI   0.010403    0.210074             1   \n",
       "1          ZMYND15        MMP23B   0.000566    0.004131             1   \n",
       "2          ZMYND15        CDC25C   0.019265   -0.222711             1   \n",
       "3          ZMYND15          UACA   0.001546    0.051827             1   \n",
       "4          ZMYND15         TCEA3   0.000566    0.048722             1   \n",
       "\n",
       "   log.p.values  \n",
       "0      -5.95313  \n",
       "1      -5.95313  \n",
       "2      -5.95313  \n",
       "3      -5.95313  \n",
       "4      -5.95313  "
      ]
     },
     "execution_count": 4,
     "metadata": {},
     "output_type": "execute_result"
    }
   ],
   "source": [
    "network = pd.read_csv(\"../../Data/scGraphLLM/SMC23/network.tsv\", sep='\\t')\n",
    "network.head()"
   ]
  },
  {
   "cell_type": "code",
   "execution_count": 5,
   "metadata": {},
   "outputs": [
    {
     "data": {
      "text/plain": [
       "AnnData object with n_obs × n_vars = 5000 × 271"
      ]
     },
     "execution_count": 5,
     "metadata": {},
     "output_type": "execute_result"
    }
   ],
   "source": [
    "raw_count = sc.read_csv(\"../../Data/scGraphLLM/SMC23/rank_raw.csv\")\n",
    "raw_count"
   ]
  },
  {
   "cell_type": "code",
   "execution_count": 6,
   "metadata": {},
   "outputs": [
    {
     "data": {
      "text/plain": [
       "torch.Size([5000, 271])"
      ]
     },
     "execution_count": 6,
     "metadata": {},
     "output_type": "execute_result"
    }
   ],
   "source": [
    "adata = raw_count\n",
    "rank_mat = torch.tensor(adata.X)\n",
    "rank_mat.shape"
   ]
  },
  {
   "cell_type": "code",
   "execution_count": 7,
   "metadata": {},
   "outputs": [
    {
     "data": {
      "text/plain": [
       "5000"
      ]
     },
     "execution_count": 7,
     "metadata": {},
     "output_type": "execute_result"
    }
   ],
   "source": [
    "genes = list(adata.obs_names)\n",
    "len(genes)"
   ]
  },
  {
   "cell_type": "code",
   "execution_count": 8,
   "metadata": {},
   "outputs": [
    {
     "data": {
      "text/plain": [
       "torch.Size([5000, 128])"
      ]
     },
     "execution_count": 8,
     "metadata": {},
     "output_type": "execute_result"
    }
   ],
   "source": [
    "node_embedding = torch.rand(len(genes), 128)\n",
    "node_embedding.shape"
   ]
  },
  {
   "cell_type": "code",
   "execution_count": 16,
   "metadata": {},
   "outputs": [
    {
     "name": "stderr",
     "output_type": "stream",
     "text": [
      "/Users/mingxuanzhang/Desktop/scGraphLLM/notebooks/../scGraphLLM/utils.py:37: SettingWithCopyWarning: \n",
      "A value is trying to be set on a copy of a slice from a DataFrame.\n",
      "Try using .loc[row_indexer,col_indexer] = value instead\n",
      "\n",
      "See the caveats in the documentation: https://pandas.pydata.org/pandas-docs/stable/user_guide/indexing.html#returning-a-view-versus-a-copy\n",
      "  edges['regulator.values'] = edges['regulator.values'].map(gene_to_node_index)\n",
      "/Users/mingxuanzhang/Desktop/scGraphLLM/notebooks/../scGraphLLM/utils.py:38: SettingWithCopyWarning: \n",
      "A value is trying to be set on a copy of a slice from a DataFrame.\n",
      "Try using .loc[row_indexer,col_indexer] = value instead\n",
      "\n",
      "See the caveats in the documentation: https://pandas.pydata.org/pandas-docs/stable/user_guide/indexing.html#returning-a-view-versus-a-copy\n",
      "  edges['target.values'] = edges['target.values'].map(gene_to_node_index)\n"
     ]
    }
   ],
   "source": [
    "dataloader, dataset = node_batching(node_embedding=node_embedding, ranks=rank_mat, \n",
    "                                    network=network, genes=genes, batch_size=64,\n",
    "                                    neigborhood_size=-1, num_hops=2)"
   ]
  },
  {
   "cell_type": "code",
   "execution_count": 17,
   "metadata": {},
   "outputs": [
    {
     "name": "stdout",
     "output_type": "stream",
     "text": [
      "Batched graph embeddings: torch.Size([820, 128])\n",
      "Batched edge indices: torch.Size([2, 15044])\n",
      "Batched edge weights: torch.Size([15044])\n",
      "Batched rank embeddings: torch.Size([820, 271])\n",
      "-----\n",
      "Batched graph embeddings: torch.Size([814, 128])\n",
      "Batched edge indices: torch.Size([2, 14556])\n",
      "Batched edge weights: torch.Size([14556])\n",
      "Batched rank embeddings: torch.Size([814, 271])\n",
      "-----\n",
      "Batched graph embeddings: torch.Size([821, 128])\n",
      "Batched edge indices: torch.Size([2, 14672])\n",
      "Batched edge weights: torch.Size([14672])\n",
      "Batched rank embeddings: torch.Size([821, 271])\n",
      "-----\n",
      "Batched graph embeddings: torch.Size([813, 128])\n",
      "Batched edge indices: torch.Size([2, 14116])\n",
      "Batched edge weights: torch.Size([14116])\n",
      "Batched rank embeddings: torch.Size([813, 271])\n",
      "-----\n"
     ]
    }
   ],
   "source": [
    "count = 0\n",
    "for batch in dataloader:\n",
    "    rank_embedding_batch = dataset.rank_embedding[batch.n_id]\n",
    "    print(\"Batched graph embeddings:\", batch.x.shape)\n",
    "    print(\"Batched edge indices:\", batch.edge_index.shape)\n",
    "    print(\"Batched edge weights:\", batch.edge_weight.shape)\n",
    "    print(\"Batched rank embeddings:\", rank_embedding_batch.shape)\n",
    "    print(\"-----\")\n",
    "    count += 1\n",
    "    if count > 3:\n",
    "        break"
   ]
  },
  {
   "cell_type": "markdown",
   "metadata": {},
   "source": [
    "# Test attention network and contrastive loss"
   ]
  },
  {
   "cell_type": "code",
   "execution_count": 12,
   "metadata": {},
   "outputs": [],
   "source": [
    "import torch\n",
    "import torch.nn.functional as F\n",
    "import torch.nn as nn"
   ]
  },
  {
   "cell_type": "code",
   "execution_count": 18,
   "metadata": {},
   "outputs": [],
   "source": [
    "a = torch.rand(20, 20)\n",
    "b = torch.rand(20, 20)\n",
    "c = torch.rand(20, 20)\n",
    "d = torch.rand(20, 20)"
   ]
  },
  {
   "cell_type": "code",
   "execution_count": 19,
   "metadata": {},
   "outputs": [],
   "source": [
    "from scGraphLLM.MLP_modules import MLPAttention"
   ]
  },
  {
   "cell_type": "code",
   "execution_count": 20,
   "metadata": {},
   "outputs": [
    {
     "data": {
      "text/plain": [
       "torch.Size([20, 20])"
      ]
     },
     "execution_count": 20,
     "metadata": {},
     "output_type": "execute_result"
    }
   ],
   "source": [
    "out, attn_w = MLPAttention(20, 8)(torch.stack([a, b, c, d], dim=1))\n",
    "out.shape"
   ]
  },
  {
   "cell_type": "code",
   "execution_count": 21,
   "metadata": {},
   "outputs": [
    {
     "data": {
      "text/plain": [
       "torch.Size([20, 4])"
      ]
     },
     "execution_count": 21,
     "metadata": {},
     "output_type": "execute_result"
    }
   ],
   "source": [
    "attn_w = attn_w.squeeze()\n",
    "attn_w.shape"
   ]
  },
  {
   "cell_type": "code",
   "execution_count": 17,
   "metadata": {},
   "outputs": [],
   "source": [
    "from scGraphLLM.MLP_modules import ContrastiveLoss"
   ]
  },
  {
   "cell_type": "code",
   "execution_count": 24,
   "metadata": {},
   "outputs": [
    {
     "name": "stdout",
     "output_type": "stream",
     "text": [
      "Number of matches: 2\n",
      "Number of mismatches: 4\n",
      "Contrastive loss: 0.08056469261646271\n"
     ]
    }
   ],
   "source": [
    "label = [0, 1, 0, 1]\n",
    "criterion = ContrastiveLoss(margin=1, verbose=True)\n",
    "loss = criterion([a, b, c, d], label)\n",
    "print(\"Contrastive loss:\", loss.item())"
   ]
  },
  {
   "cell_type": "code",
   "execution_count": 25,
   "metadata": {},
   "outputs": [
    {
     "name": "stdout",
     "output_type": "stream",
     "text": [
      "Number of matches: 3\n",
      "Number of mismatches: 3\n",
      "Contrastive loss: 0.07045094668865204\n"
     ]
    }
   ],
   "source": [
    "label = [0, 0, 0, 1]\n",
    "criterion = ContrastiveLoss(margin=1, verbose=True)\n",
    "loss = criterion([a, b, c, d], label)\n",
    "print(\"Contrastive loss:\", loss.item())"
   ]
  },
  {
   "cell_type": "code",
   "execution_count": 26,
   "metadata": {},
   "outputs": [
    {
     "name": "stdout",
     "output_type": "stream",
     "text": [
      "Number of matches: 3\n",
      "Number of mismatches: 3\n",
      "Contrastive loss: 0.1009301245212555\n"
     ]
    }
   ],
   "source": [
    "label = [0, 1, 1, 1]\n",
    "criterion = ContrastiveLoss(margin=1, verbose=True)\n",
    "loss = criterion([a, b, c, d], label)\n",
    "print(\"Contrastive loss:\", loss.item())"
   ]
  },
  {
   "cell_type": "code",
   "execution_count": null,
   "metadata": {},
   "outputs": [],
   "source": []
  }
 ],
 "metadata": {
  "kernelspec": {
   "display_name": "work",
   "language": "python",
   "name": "python3"
  },
  "language_info": {
   "codemirror_mode": {
    "name": "ipython",
    "version": 3
   },
   "file_extension": ".py",
   "mimetype": "text/x-python",
   "name": "python",
   "nbconvert_exporter": "python",
   "pygments_lexer": "ipython3",
   "version": "3.12.1"
  }
 },
 "nbformat": 4,
 "nbformat_minor": 2
}
