{
 "cells": [
  {
   "cell_type": "code",
   "execution_count": 1,
   "metadata": {},
   "outputs": [],
   "source": [
    "import pandas as pd\n",
    "from pyviper._load._load_regulators import load_TFs, load_coTFs, load_sig, load_surf\n",
    "from pyviper._load._load_translate import load_human2mouse"
   ]
  },
  {
   "cell_type": "code",
   "execution_count": 2,
   "metadata": {},
   "outputs": [],
   "source": [
    "tfs = load_TFs(species=\"human\")\n",
    "cotfs = load_coTFs(species=\"human\")\n",
    "sigs = load_sig(species=\"human\")\n",
    "surfs = load_surf(species=\"human\")"
   ]
  },
  {
   "cell_type": "code",
   "execution_count": 3,
   "metadata": {},
   "outputs": [],
   "source": [
    "gene_names = load_human2mouse()"
   ]
  },
  {
   "cell_type": "code",
   "execution_count": 4,
   "metadata": {},
   "outputs": [
    {
     "data": {
      "text/html": [
       "<div>\n",
       "<style scoped>\n",
       "    .dataframe tbody tr th:only-of-type {\n",
       "        vertical-align: middle;\n",
       "    }\n",
       "\n",
       "    .dataframe tbody tr th {\n",
       "        vertical-align: top;\n",
       "    }\n",
       "\n",
       "    .dataframe thead th {\n",
       "        text-align: right;\n",
       "    }\n",
       "</style>\n",
       "<table border=\"1\" class=\"dataframe\">\n",
       "  <thead>\n",
       "    <tr style=\"text-align: right;\">\n",
       "      <th></th>\n",
       "      <th>human_symbol</th>\n",
       "      <th>mouse_symbol</th>\n",
       "      <th>human_ensembl</th>\n",
       "      <th>mouse_ensembl</th>\n",
       "      <th>human_entrez</th>\n",
       "      <th>mouse_entrez</th>\n",
       "    </tr>\n",
       "  </thead>\n",
       "  <tbody>\n",
       "    <tr>\n",
       "      <th>0</th>\n",
       "      <td>A1BG</td>\n",
       "      <td>A1bg</td>\n",
       "      <td>ENSG00000121410</td>\n",
       "      <td>ENSMUSG00000022347</td>\n",
       "      <td>1</td>\n",
       "      <td>117586</td>\n",
       "    </tr>\n",
       "    <tr>\n",
       "      <th>1</th>\n",
       "      <td>A1CF</td>\n",
       "      <td>A1cf</td>\n",
       "      <td>ENSG00000148584</td>\n",
       "      <td>ENSMUSG00000052595</td>\n",
       "      <td>29974</td>\n",
       "      <td>69865</td>\n",
       "    </tr>\n",
       "    <tr>\n",
       "      <th>2</th>\n",
       "      <td>A2M</td>\n",
       "      <td>A2m</td>\n",
       "      <td>ENSG00000175899</td>\n",
       "      <td>ENSMUSG00000030111</td>\n",
       "      <td>2</td>\n",
       "      <td>232345</td>\n",
       "    </tr>\n",
       "    <tr>\n",
       "      <th>3</th>\n",
       "      <td>A3GALT2</td>\n",
       "      <td>A3galt2</td>\n",
       "      <td>ENSG00000184389</td>\n",
       "      <td>ENSMUSG00000028794</td>\n",
       "      <td>127550</td>\n",
       "      <td>215493</td>\n",
       "    </tr>\n",
       "    <tr>\n",
       "      <th>4</th>\n",
       "      <td>A4GALT</td>\n",
       "      <td>A4galt</td>\n",
       "      <td>ENSG00000128274</td>\n",
       "      <td>ENSMUSG00000047878</td>\n",
       "      <td>53947</td>\n",
       "      <td>239559</td>\n",
       "    </tr>\n",
       "    <tr>\n",
       "      <th>...</th>\n",
       "      <td>...</td>\n",
       "      <td>...</td>\n",
       "      <td>...</td>\n",
       "      <td>...</td>\n",
       "      <td>...</td>\n",
       "      <td>...</td>\n",
       "    </tr>\n",
       "    <tr>\n",
       "      <th>28789</th>\n",
       "      <td>ZYG11B</td>\n",
       "      <td>Zyg11b</td>\n",
       "      <td>ENSG00000162378</td>\n",
       "      <td>ENSMUSG00000034636</td>\n",
       "      <td>79699</td>\n",
       "      <td>414872</td>\n",
       "    </tr>\n",
       "    <tr>\n",
       "      <th>28790</th>\n",
       "      <td>ZYX</td>\n",
       "      <td>Zyx</td>\n",
       "      <td>ENSG00000159840</td>\n",
       "      <td>ENSMUSG00000029860</td>\n",
       "      <td>7791</td>\n",
       "      <td>22793</td>\n",
       "    </tr>\n",
       "    <tr>\n",
       "      <th>28791</th>\n",
       "      <td>ZYX</td>\n",
       "      <td>Zyx</td>\n",
       "      <td>ENSG00000285443</td>\n",
       "      <td>ENSMUSG00000029860</td>\n",
       "      <td>7791</td>\n",
       "      <td>22793</td>\n",
       "    </tr>\n",
       "    <tr>\n",
       "      <th>28792</th>\n",
       "      <td>ZZEF1</td>\n",
       "      <td>Zzef1</td>\n",
       "      <td>ENSG00000074755</td>\n",
       "      <td>ENSMUSG00000055670</td>\n",
       "      <td>23140</td>\n",
       "      <td>195018</td>\n",
       "    </tr>\n",
       "    <tr>\n",
       "      <th>28793</th>\n",
       "      <td>ZZZ3</td>\n",
       "      <td>Zzz3</td>\n",
       "      <td>ENSG00000036549</td>\n",
       "      <td>ENSMUSG00000039068</td>\n",
       "      <td>26009</td>\n",
       "      <td>108946</td>\n",
       "    </tr>\n",
       "  </tbody>\n",
       "</table>\n",
       "<p>28794 rows × 6 columns</p>\n",
       "</div>"
      ],
      "text/plain": [
       "      human_symbol mouse_symbol    human_ensembl       mouse_ensembl  \\\n",
       "0             A1BG         A1bg  ENSG00000121410  ENSMUSG00000022347   \n",
       "1             A1CF         A1cf  ENSG00000148584  ENSMUSG00000052595   \n",
       "2              A2M          A2m  ENSG00000175899  ENSMUSG00000030111   \n",
       "3          A3GALT2      A3galt2  ENSG00000184389  ENSMUSG00000028794   \n",
       "4           A4GALT       A4galt  ENSG00000128274  ENSMUSG00000047878   \n",
       "...            ...          ...              ...                 ...   \n",
       "28789       ZYG11B       Zyg11b  ENSG00000162378  ENSMUSG00000034636   \n",
       "28790          ZYX          Zyx  ENSG00000159840  ENSMUSG00000029860   \n",
       "28791          ZYX          Zyx  ENSG00000285443  ENSMUSG00000029860   \n",
       "28792        ZZEF1        Zzef1  ENSG00000074755  ENSMUSG00000055670   \n",
       "28793         ZZZ3         Zzz3  ENSG00000036549  ENSMUSG00000039068   \n",
       "\n",
       "      human_entrez mouse_entrez  \n",
       "0                1       117586  \n",
       "1            29974        69865  \n",
       "2                2       232345  \n",
       "3           127550       215493  \n",
       "4            53947       239559  \n",
       "...            ...          ...  \n",
       "28789        79699       414872  \n",
       "28790         7791        22793  \n",
       "28791         7791        22793  \n",
       "28792        23140       195018  \n",
       "28793        26009       108946  \n",
       "\n",
       "[28794 rows x 6 columns]"
      ]
     },
     "execution_count": 4,
     "metadata": {},
     "output_type": "execute_result"
    }
   ],
   "source": [
    "gene_names"
   ]
  },
  {
   "cell_type": "code",
   "execution_count": 5,
   "metadata": {},
   "outputs": [],
   "source": [
    "symbol2ensembl = gene_names.set_index(\"human_symbol\")[\"human_ensembl\"].to_dict()"
   ]
  },
  {
   "cell_type": "code",
   "execution_count": 6,
   "metadata": {},
   "outputs": [],
   "source": [
    "regulators = pd.Series([symbol2ensembl.get(reg) for reg in tfs + cotfs])"
   ]
  },
  {
   "cell_type": "code",
   "execution_count": 7,
   "metadata": {},
   "outputs": [
    {
     "data": {
      "text/plain": [
       "0.12433754586220953"
      ]
     },
     "execution_count": 7,
     "metadata": {},
     "output_type": "execute_result"
    }
   ],
   "source": [
    "# check nas\n",
    "regulators.isna().mean()"
   ]
  },
  {
   "cell_type": "code",
   "execution_count": 8,
   "metadata": {},
   "outputs": [],
   "source": [
    "regulators = regulators.pipe(lambda x: x[~x.isna()])"
   ]
  },
  {
   "cell_type": "code",
   "execution_count": 9,
   "metadata": {},
   "outputs": [
    {
     "data": {
      "text/plain": [
       "0.0"
      ]
     },
     "execution_count": 9,
     "metadata": {},
     "output_type": "execute_result"
    }
   ],
   "source": [
    "regulators.isna().mean()"
   ]
  },
  {
   "cell_type": "code",
   "execution_count": 10,
   "metadata": {},
   "outputs": [],
   "source": [
    "regulators.to_csv(\"/burg/pmg/users/rc3686/data/regulators.txt\", header=False, index=False)"
   ]
  },
  {
   "cell_type": "code",
   "execution_count": 11,
   "metadata": {},
   "outputs": [
    {
     "data": {
      "text/plain": [
       "2148"
      ]
     },
     "execution_count": 11,
     "metadata": {},
     "output_type": "execute_result"
    }
   ],
   "source": [
    "len(regulators)"
   ]
  },
  {
   "cell_type": "markdown",
   "metadata": {},
   "source": [
    "### Making global gene to node file"
   ]
  },
  {
   "cell_type": "code",
   "execution_count": 6,
   "metadata": {},
   "outputs": [],
   "source": [
    "sample_aracne_out = '/burg/pmg/users/rc3686/data/cellxgene/data/cell_type_005/dendritic_cell'\n",
    "ranks = pd.read_csv(sample_aracne_out + \"/rank_raw.csv\", index_col=None, nrows=10)"
   ]
  },
  {
   "cell_type": "code",
   "execution_count": 9,
   "metadata": {},
   "outputs": [
    {
     "data": {
      "text/plain": [
       "['ENSG00000121410',\n",
       " 'ENSG00000148584',\n",
       " 'ENSG00000175899',\n",
       " 'ENSG00000166535',\n",
       " 'ENSG00000184389',\n",
       " 'ENSG00000128274',\n",
       " 'ENSG00000118017',\n",
       " 'ENSG00000081760',\n",
       " 'ENSG00000114771',\n",
       " 'ENSG00000188984']"
      ]
     },
     "execution_count": 9,
     "metadata": {},
     "output_type": "execute_result"
    }
   ],
   "source": [
    "gene_list = ranks.columns.tolist()\n",
    "gene_list[:10]"
   ]
  },
  {
   "cell_type": "code",
   "execution_count": 10,
   "metadata": {},
   "outputs": [],
   "source": [
    "full_gene_list = [\"<PAD>\", \"<MASK>\"] + sorted(gene_list)"
   ]
  },
  {
   "cell_type": "code",
   "execution_count": 11,
   "metadata": {},
   "outputs": [],
   "source": [
    "global_gene_to_node = pd.DataFrame({\n",
    "    \"gene_name\": full_gene_list,\n",
    "    \"idx\": range(len(full_gene_list))\n",
    "})"
   ]
  },
  {
   "cell_type": "code",
   "execution_count": 12,
   "metadata": {},
   "outputs": [
    {
     "data": {
      "text/html": [
       "<div>\n",
       "<style scoped>\n",
       "    .dataframe tbody tr th:only-of-type {\n",
       "        vertical-align: middle;\n",
       "    }\n",
       "\n",
       "    .dataframe tbody tr th {\n",
       "        vertical-align: top;\n",
       "    }\n",
       "\n",
       "    .dataframe thead th {\n",
       "        text-align: right;\n",
       "    }\n",
       "</style>\n",
       "<table border=\"1\" class=\"dataframe\">\n",
       "  <thead>\n",
       "    <tr style=\"text-align: right;\">\n",
       "      <th></th>\n",
       "      <th>gene_name</th>\n",
       "      <th>idx</th>\n",
       "    </tr>\n",
       "  </thead>\n",
       "  <tbody>\n",
       "    <tr>\n",
       "      <th>0</th>\n",
       "      <td>&lt;PAD&gt;</td>\n",
       "      <td>0</td>\n",
       "    </tr>\n",
       "    <tr>\n",
       "      <th>1</th>\n",
       "      <td>&lt;MASK&gt;</td>\n",
       "      <td>1</td>\n",
       "    </tr>\n",
       "    <tr>\n",
       "      <th>2</th>\n",
       "      <td>ENSG00000000003</td>\n",
       "      <td>2</td>\n",
       "    </tr>\n",
       "    <tr>\n",
       "      <th>3</th>\n",
       "      <td>ENSG00000000005</td>\n",
       "      <td>3</td>\n",
       "    </tr>\n",
       "    <tr>\n",
       "      <th>4</th>\n",
       "      <td>ENSG00000000419</td>\n",
       "      <td>4</td>\n",
       "    </tr>\n",
       "    <tr>\n",
       "      <th>...</th>\n",
       "      <td>...</td>\n",
       "      <td>...</td>\n",
       "    </tr>\n",
       "    <tr>\n",
       "      <th>19241</th>\n",
       "      <td>ENSG00000288701</td>\n",
       "      <td>19241</td>\n",
       "    </tr>\n",
       "    <tr>\n",
       "      <th>19242</th>\n",
       "      <td>ENSG00000288702</td>\n",
       "      <td>19242</td>\n",
       "    </tr>\n",
       "    <tr>\n",
       "      <th>19243</th>\n",
       "      <td>ENSG00000288705</td>\n",
       "      <td>19243</td>\n",
       "    </tr>\n",
       "    <tr>\n",
       "      <th>19244</th>\n",
       "      <td>ENSG00000288709</td>\n",
       "      <td>19244</td>\n",
       "    </tr>\n",
       "    <tr>\n",
       "      <th>19245</th>\n",
       "      <td>ENSG00000288722</td>\n",
       "      <td>19245</td>\n",
       "    </tr>\n",
       "  </tbody>\n",
       "</table>\n",
       "<p>19246 rows × 2 columns</p>\n",
       "</div>"
      ],
      "text/plain": [
       "             gene_name    idx\n",
       "0                <PAD>      0\n",
       "1               <MASK>      1\n",
       "2      ENSG00000000003      2\n",
       "3      ENSG00000000005      3\n",
       "4      ENSG00000000419      4\n",
       "...                ...    ...\n",
       "19241  ENSG00000288701  19241\n",
       "19242  ENSG00000288702  19242\n",
       "19243  ENSG00000288705  19243\n",
       "19244  ENSG00000288709  19244\n",
       "19245  ENSG00000288722  19245\n",
       "\n",
       "[19246 rows x 2 columns]"
      ]
     },
     "execution_count": 12,
     "metadata": {},
     "output_type": "execute_result"
    }
   ],
   "source": [
    "global_gene_to_node"
   ]
  },
  {
   "cell_type": "code",
   "execution_count": 13,
   "metadata": {},
   "outputs": [],
   "source": [
    "gene_to_node_file = '/burg/pmg/collab/scGraphLLM/data/cellxgene_gene2index.csv'"
   ]
  },
  {
   "cell_type": "code",
   "execution_count": 14,
   "metadata": {},
   "outputs": [],
   "source": [
    "global_gene_to_node.to_csv(\n",
    "    gene_to_node_file, index=False, header=True\n",
    ")"
   ]
  }
 ],
 "metadata": {
  "kernelspec": {
   "display_name": "Python 3",
   "language": "python",
   "name": "python3"
  },
  "language_info": {
   "codemirror_mode": {
    "name": "ipython",
    "version": 3
   },
   "file_extension": ".py",
   "mimetype": "text/x-python",
   "name": "python",
   "nbconvert_exporter": "python",
   "pygments_lexer": "ipython3",
   "version": "3.12.3"
  }
 },
 "nbformat": 4,
 "nbformat_minor": 2
}
