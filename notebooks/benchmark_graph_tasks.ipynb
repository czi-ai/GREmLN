{
 "cells": [
  {
   "cell_type": "code",
   "execution_count": 2,
   "metadata": {},
   "outputs": [],
   "source": [
    "import os \n",
    "from os.path import join, abspath, dirname\n",
    "import sys\n",
    "sys.path.append('..')\n",
    "from argparse import ArgumentParser\n",
    "\n",
    "from torch_geometric.utils import negative_sampling\n",
    "import lightning.pytorch as pl\n",
    "\n",
    "from scGraphLLM.data import *\n",
    "from scGraphLLM.GNN_modules import *\n",
    "from scGraphLLM.MLP_modules import *\n",
    "from scGraphLLM._globals import *\n",
    "#from scGraphLLM.flash_transformer import GDTransformer\n",
    "from scGraphLLM.config import *\n",
    "\n",
    "import torch\n",
    "import torch.nn as nn\n",
    "import torch.nn.functional as F\n",
    "from torch.nn.utils.rnn import pad_sequence\n",
    "from torch.utils.data import Dataset, DataLoader\n",
    "\n",
    "from sklearn.metrics import roc_curve, auc\n",
    "from sklearn.metrics import precision_recall_curve\n",
    "from sklearn.metrics import average_precision_score\n",
    "import tqdm\n",
    "import matplotlib.pyplot as plt\n",
    "import random\n",
    "\n",
    "device = torch.device(\"cuda\" if torch.cuda.is_available() else \"cpu\")"
   ]
  },
  {
   "cell_type": "code",
   "execution_count": 2,
   "metadata": {},
   "outputs": [
    {
     "data": {
      "text/plain": [
       "['cd14_monocytes',\n",
       " 'cd16_monocytes',\n",
       " 'cd20_b_cells',\n",
       " 'cd4_t_cells',\n",
       " 'cd8_t_cells',\n",
       " 'erythrocytes',\n",
       " 'monocyte-derived_dendritic_cells',\n",
       " 'nk_cells',\n",
       " 'nkt_cells']"
      ]
     },
     "execution_count": 2,
     "metadata": {},
     "output_type": "execute_result"
    }
   ],
   "source": [
    "from pathlib import Path\n",
    "cell_type_dir = \"/hpc/mydata/rowan.cassius/data/scGPT/human_immune/cell_type\"\n",
    "\n",
    "def get_subdirs_with_info_json(root_dir):\n",
    "    root = Path(root_dir)\n",
    "    return [\n",
    "        subdir.name \n",
    "        for subdir in root.iterdir() \n",
    "        if subdir.is_dir() and any(child.name.startswith(\"info\") and child.suffix == \".json\" \n",
    "                                   for child in subdir.iterdir())\n",
    "    ]\n",
    "\n",
    "# Example usage:\n",
    "root_directory = \"/hpc/mydata/rowan.cassius/data/scGPT/human_immune/cell_type\"\n",
    "subdirs = get_subdirs_with_info_json(root_directory)\n",
    "subdirs"
   ]
  },
  {
   "cell_type": "code",
   "execution_count": 3,
   "metadata": {},
   "outputs": [],
   "source": [
    "import sys\n",
    "sys.path.append(\"/hpc/mydata/rowan.cassius/scGraphLLM/embeddings\")\n",
    "from benchmark import GeneEmbeddingDataset"
   ]
  },
  {
   "cell_type": "code",
   "execution_count": 4,
   "metadata": {},
   "outputs": [],
   "source": [
    "immune_cell_types = [\n",
    "  \"cd14_monocytes\",\n",
    "  \"cd16_monocytes\",\n",
    "  \"cd20_b_cells\",\n",
    "  \"cd4_t_cells\",\n",
    "  \"cd8_t_cells\",\n",
    "  \"erythrocytes\",\n",
    "  \"monocyte-derived_dendritic_cells\",\n",
    "  \"nk_cells\",\n",
    "  \"nkt_cells\"\n",
    "]"
   ]
  },
  {
   "cell_type": "code",
   "execution_count": 5,
   "metadata": {},
   "outputs": [],
   "source": [
    "train_cell_types = [\n",
    "  \"cd14_monocytes\",\n",
    "#   \"cd16_monocytes\",\n",
    "#   \"cd20_b_cells\",\n",
    "#   \"cd4_t_cells\",\n",
    "#   \"cd8_t_cells\",\n",
    "#   \"erythrocytes\",\n",
    "#   \"monocyte-derived_dendritic_cells\",\n",
    "#   \"nk_cells\",\n",
    "  \"nkt_cells\"\n",
    "]"
   ]
  },
  {
   "cell_type": "code",
   "execution_count": 6,
   "metadata": {},
   "outputs": [
    {
     "data": {
      "text/plain": [
       "9"
      ]
     },
     "execution_count": 6,
     "metadata": {},
     "output_type": "execute_result"
    }
   ],
   "source": [
    "len(immune_cell_types)"
   ]
  },
  {
   "cell_type": "code",
   "execution_count": null,
   "metadata": {},
   "outputs": [],
   "source": [
    "scgpt_embedding_path = \"/hpc/mydata/rowan.cassius/data/scGPT/human_immune/cell_type/{}/embeddings/scgpt/embedding.npz\"\n",
    "# train_dataset = GeneEmbeddingDataset(paths=[scgpt_embedding_path.format(cell_type) for cell_type in train_cell_types])"
   ]
  },
  {
   "cell_type": "code",
   "execution_count": null,
   "metadata": {},
   "outputs": [],
   "source": [
    "len(train_dataset)"
   ]
  },
  {
   "cell_type": "code",
   "execution_count": 7,
   "metadata": {},
   "outputs": [],
   "source": [
    "cd14_monocytes_dataset = GeneEmbeddingDataset(\n",
    "    paths=\"/hpc/mydata/rowan.cassius/data/scGPT/human_immune/cell_type/cd14_monocytes/embeddings/scgpt/embedding.npz\"\n",
    ")"
   ]
  },
  {
   "cell_type": "code",
   "execution_count": 18,
   "metadata": {},
   "outputs": [
    {
     "data": {
      "text/plain": [
       "1000"
      ]
     },
     "execution_count": 18,
     "metadata": {},
     "output_type": "execute_result"
    }
   ],
   "source": [
    "len(cd14_monocytes_dataset)"
   ]
  },
  {
   "cell_type": "code",
   "execution_count": 20,
   "metadata": {},
   "outputs": [
    {
     "ename": "",
     "evalue": "",
     "output_type": "error",
     "traceback": [
      "\u001b[1;31mThe Kernel crashed while executing code in the current cell or a previous cell. \n",
      "\u001b[1;31mPlease review the code in the cell(s) to identify a possible cause of the failure. \n",
      "\u001b[1;31mClick <a href='https://aka.ms/vscodeJupyterKernelCrash'>here</a> for more info. \n",
      "\u001b[1;31mView Jupyter <a href='command:jupyter.viewOutput'>log</a> for further details."
     ]
    }
   ],
   "source": [
    "nkt_cells_dataset = GeneEmbeddingDataset(\n",
    "    paths=\"/hpc/mydata/rowan.cassius/data/scGPT/human_immune/cell_type/nkt_cells/embeddings/scgpt/embedding.npz\"\n",
    ")"
   ]
  },
  {
   "cell_type": "code",
   "execution_count": null,
   "metadata": {},
   "outputs": [],
   "source": [
    "len(nkt_cells_dataset)"
   ]
  },
  {
   "cell_type": "code",
   "execution_count": 16,
   "metadata": {},
   "outputs": [
    {
     "name": "stdout",
     "output_type": "stream",
     "text": [
      "34.76 MB\n"
     ]
    }
   ],
   "source": [
    "import sys\n",
    "\n",
    "def format_size(size):\n",
    "    \"\"\"Converts the size in bytes to a human-readable format (KB, MB, GB).\"\"\"\n",
    "    if size < 1024:\n",
    "        return f\"{size} B\"\n",
    "    elif size < 1024**2:\n",
    "        return f\"{size / 1024:.2f} KB\"\n",
    "    elif size < 1024**3:\n",
    "        return f\"{size / 1024**2:.2f} MB\"\n",
    "    else:\n",
    "        return f\"{size / 1024**3:.2f} GB\"\n",
    "\n",
    "def get_object_memory_size(obj, seen=None, format=True):\n",
    "    \"\"\"Recursively computes the memory usage of an object, accounting for referenced objects.\"\"\"\n",
    "    if seen is None:\n",
    "        seen = set()\n",
    "\n",
    "    # Check if we've already seen this object (to avoid infinite recursion in case of circular references)\n",
    "    if id(obj) in seen:\n",
    "        return 0\n",
    "    \n",
    "    # Mark this object as seen\n",
    "    seen.add(id(obj))\n",
    "\n",
    "    size = sys.getsizeof(obj)\n",
    "\n",
    "    # If the object is a container (e.g., list, dict, etc.), recursively check its contents\n",
    "    if isinstance(obj, dict):\n",
    "        size += sum([get_object_memory_size(v, seen, format=False) + get_object_memory_size(k, seen, format=False) for k, v in obj.items()])\n",
    "    elif isinstance(obj, (list, tuple, set)):\n",
    "        size += sum([get_object_memory_size(i, seen, format=False) for i in obj])\n",
    "\n",
    "    # If the 'format' flag is True, format the result into a human-readable form\n",
    "    if format:\n",
    "        return format_size(size)\n",
    "    \n",
    "    return size\n",
    "\n",
    "# Example usage:\n",
    "my_list = [i for i in range(1000000)]\n",
    "print(get_object_memory_size(my_list))"
   ]
  },
  {
   "cell_type": "code",
   "execution_count": 19,
   "metadata": {},
   "outputs": [
    {
     "data": {
      "text/plain": [
       "'48 B'"
      ]
     },
     "execution_count": 19,
     "metadata": {},
     "output_type": "execute_result"
    }
   ],
   "source": [
    "get_object_memory_size(cd14_monocytes_dataset)"
   ]
  },
  {
   "cell_type": "code",
   "execution_count": null,
   "metadata": {},
   "outputs": [],
   "source": [
    "cd14_monocytes_dataset = GeneEmbeddingDataset(\n",
    "    paths=\"/hpc/mydata/rowan.cassius/data/scGPT/human_immune/cell_type/cd14_monocytes/embeddings/scgpt/embedding.npz\"\n",
    ")"
   ]
  },
  {
   "cell_type": "code",
   "execution_count": 2,
   "metadata": {},
   "outputs": [],
   "source": [
    "import scanpy as sc"
   ]
  },
  {
   "cell_type": "code",
   "execution_count": 3,
   "metadata": {},
   "outputs": [],
   "source": [
    "cd14_monocyte_cells = sc.read_h5ad(\"/hpc/mydata/rowan.cassius/data/scGPT/human_immune/cell_type/cd14_monocytes/cells.h5ad\")"
   ]
  },
  {
   "cell_type": "code",
   "execution_count": 4,
   "metadata": {},
   "outputs": [
    {
     "data": {
      "text/plain": [
       "AnnData object with n_obs × n_vars = 6158 × 11971\n",
       "    obs: 'batch', 'chemistry', 'data_type', 'dpt_pseudotime', 'final_annotation', 'mt_frac', 'n_counts', 'n_genes', 'sample_ID', 'size_factors', 'species', 'study', 'tissue', 'cell_type', 'n_genes_by_counts', 'log1p_n_genes_by_counts', 'total_counts', 'log1p_total_counts', 'total_counts_mt', 'log1p_total_counts_mt', 'pct_counts_mt', 'sample_id', 'cluster'\n",
       "    var: 'mt', 'n_cells_by_counts', 'mean_counts', 'log1p_mean_counts', 'pct_dropout_by_counts', 'total_counts', 'log1p_total_counts'\n",
       "    uns: 'cluster', 'log1p', 'neighbors', 'pca'\n",
       "    obsm: 'X_pca'\n",
       "    varm: 'PCs'\n",
       "    layers: 'counts'\n",
       "    obsp: 'connectivities', 'distances'"
      ]
     },
     "execution_count": 4,
     "metadata": {},
     "output_type": "execute_result"
    }
   ],
   "source": [
    "cd14_monocyte_cells"
   ]
  },
  {
   "cell_type": "code",
   "execution_count": 6,
   "metadata": {},
   "outputs": [],
   "source": [
    "cd20_b_cells = sc.read_h5ad(\"/hpc/mydata/rowan.cassius/data/scGPT/human_immune/cell_type/cd20_b_cells/cells.h5ad\")"
   ]
  },
  {
   "cell_type": "code",
   "execution_count": 8,
   "metadata": {},
   "outputs": [],
   "source": [
    "cd4_t_cells = sc.read_h5ad(\"/hpc/mydata/rowan.cassius/data/scGPT/human_immune/cell_type/cd4_t_cells/cells.h5ad\")"
   ]
  },
  {
   "cell_type": "code",
   "execution_count": 9,
   "metadata": {},
   "outputs": [
    {
     "data": {
      "text/plain": [
       "AnnData object with n_obs × n_vars = 10460 × 11971\n",
       "    obs: 'batch', 'chemistry', 'data_type', 'dpt_pseudotime', 'final_annotation', 'mt_frac', 'n_counts', 'n_genes', 'sample_ID', 'size_factors', 'species', 'study', 'tissue', 'cell_type', 'n_genes_by_counts', 'log1p_n_genes_by_counts', 'total_counts', 'log1p_total_counts', 'total_counts_mt', 'log1p_total_counts_mt', 'pct_counts_mt', 'sample_id', 'cluster'\n",
       "    var: 'mt', 'n_cells_by_counts', 'mean_counts', 'log1p_mean_counts', 'pct_dropout_by_counts', 'total_counts', 'log1p_total_counts'\n",
       "    uns: 'cluster', 'log1p', 'neighbors', 'pca'\n",
       "    obsm: 'X_pca'\n",
       "    varm: 'PCs'\n",
       "    layers: 'counts'\n",
       "    obsp: 'connectivities', 'distances'"
      ]
     },
     "execution_count": 9,
     "metadata": {},
     "output_type": "execute_result"
    }
   ],
   "source": [
    "cd4_t_cells"
   ]
  },
  {
   "cell_type": "code",
   "execution_count": 18,
   "metadata": {},
   "outputs": [],
   "source": [
    "cd16_monocytes_dataset = GeneEmbeddingDataset(\n",
    "    paths=\"/hpc/mydata/rowan.cassius/data/scGPT/human_immune/cell_type/cd16_monocytes/embeddings/scgpt/embedding.npz\"\n",
    ")"
   ]
  },
  {
   "cell_type": "code",
   "execution_count": null,
   "metadata": {},
   "outputs": [
    {
     "data": {
      "text/plain": [
       "972"
      ]
     },
     "execution_count": 19,
     "metadata": {},
     "output_type": "execute_result"
    }
   ],
   "source": [
    "len(cd16_monocytes_dataset)"
   ]
  },
  {
   "cell_type": "code",
   "execution_count": 20,
   "metadata": {},
   "outputs": [],
   "source": [
    "nkt_cells_dataset = GeneEmbeddingDataset(\n",
    "    paths=\"/hpc/mydata/rowan.cassius/data/scGPT/human_immune/cell_type/nkt_cells/embeddings/scgpt/embedding.npz\"\n",
    ")"
   ]
  },
  {
   "cell_type": "code",
   "execution_count": null,
   "metadata": {},
   "outputs": [],
   "source": [
    "len(nkt_cells_dataset)"
   ]
  },
  {
   "cell_type": "code",
   "execution_count": null,
   "metadata": {},
   "outputs": [],
   "source": [
    "for i in dataset:\n",
    "    \n",
    "    print(f\"x.shape: {i['x'].shape}\")\n",
    "    print(f\"seq_length: {i['seq_lengths']}\")\n",
    "    # print(i['edges'])\n",
    "    print(f\"edges.shape: {i['edges'].shape}\")\n"
   ]
  },
  {
   "cell_type": "code",
   "execution_count": null,
   "metadata": {},
   "outputs": [],
   "source": [
    "len(dataset)"
   ]
  },
  {
   "cell_type": "code",
   "execution_count": null,
   "metadata": {},
   "outputs": [],
   "source": [
    "def predict_and_compare(test_dataloader, pretrain1, pretrain2, model1, model2, max_num_batches=100):\n",
    "    model1.eval().to(\"cuda\")\n",
    "    model2.eval().to(\"cuda\")\n",
    "    pretrain1.eval().to(\"cuda\")\n",
    "    pretrain2.eval().to(\"cuda\")\n",
    "    \n",
    "    all_preds1 = []\n",
    "    all_preds2 = []\n",
    "    all_labels = []\n",
    "    n_b = 0\n",
    "    for batch in tqdm.tqdm(test_dataloader, leave=False):\n",
    "        batch = send_to_gpu(batch)\n",
    "        embedding1, target_gene_ids, target_rank_ids, mask_locs, edge_index_list, num_nodes_list = pretrain1(batch)\n",
    "        embedding2, target_gene_ids, target_rank_ids, mask_locs, edge_index_list, num_nodes_list = pretrain2(batch)\n",
    "        \n",
    "        L_g1, preds1, labels = link_pred_loss(model1, embedding1, mask_locs[0], edge_index_list)\n",
    "        L_g2, preds2, labels = link_pred_loss(model2, embedding2, mask_locs[0], edge_index_list)\n",
    "        \n",
    "        all_preds1.extend(preds1.cpu().detach().numpy())\n",
    "        all_preds2.extend(preds2.cpu().detach().numpy())\n",
    "        all_labels.extend(labels.cpu().detach().numpy())\n",
    "        \n",
    "        n_b += 1\n",
    "        if n_b >= max_num_batches:\n",
    "            break\n",
    "    \n",
    "    # AUROC\n",
    "    fpr1, tpr1, _ = roc_curve(all_labels, all_preds1)\n",
    "    fpr2, tpr2, _ = roc_curve(all_labels, all_preds2)\n",
    "    auc1 = auc(fpr1, tpr1)\n",
    "    auc2 = auc(fpr2, tpr2)\n",
    "    \n",
    "    # PR\n",
    "    p1, r1, _ = precision_recall_curve(all_labels, all_preds1)\n",
    "    p2, r2, _ = precision_recall_curve(all_labels, all_preds2)\n",
    "    apr1 = average_precision_score(all_labels, all_preds1)\n",
    "    apr2 = average_precision_score(all_labels, all_preds2)\n",
    "    \n",
    "    return fpr1, tpr1, auc1, fpr2, tpr2, auc2, p1, r1, apr1, p2, r2, apr2"
   ]
  },
  {
   "cell_type": "code",
   "execution_count": null,
   "metadata": {},
   "outputs": [],
   "source": [
    "def predict_and_compare(test_dataloader, pretrain1, pretrain2, model1, model2, max_num_batches=100):\n",
    "    model1.eval().to(\"cuda\")\n",
    "    model2.eval().to(\"cuda\")\n",
    "    pretrain1.eval().to(\"cuda\")\n",
    "    pretrain2.eval().to(\"cuda\")\n",
    "    \n",
    "    all_preds1 = []\n",
    "    all_preds2 = []\n",
    "    all_labels = []\n",
    "    n_b = 0\n",
    "    for batch in tqdm.tqdm(test_dataloader, leave=False):\n",
    "        batch = send_to_gpu(batch)\n",
    "        embedding1, target_gene_ids, target_rank_ids, mask_locs, edge_index_list, num_nodes_list = pretrain1(batch)\n",
    "        embedding2, target_gene_ids, target_rank_ids, mask_locs, edge_index_list, num_nodes_list = pretrain2(batch)\n",
    "        \n",
    "        L_g1, preds1, labels = link_pred_loss(model1, embedding1, mask_locs[0], edge_index_list)\n",
    "        L_g2, preds2, labels = link_pred_loss(model2, embedding2, mask_locs[0], edge_index_list)\n",
    "        \n",
    "        all_preds1.extend(preds1.cpu().detach().numpy())\n",
    "        all_preds2.extend(preds2.cpu().detach().numpy())\n",
    "        all_labels.extend(labels.cpu().detach().numpy())\n",
    "        \n",
    "        n_b += 1\n",
    "        if n_b >= max_num_batches:\n",
    "            break\n",
    "    \n",
    "    # AUROC\n",
    "    fpr1, tpr1, _ = roc_curve(all_labels, all_preds1)\n",
    "    fpr2, tpr2, _ = roc_curve(all_labels, all_preds2)\n",
    "    auc1 = auc(fpr1, tpr1)\n",
    "    auc2 = auc(fpr2, tpr2)\n",
    "    \n",
    "    # PR\n",
    "    p1, r1, _ = precision_recall_curve(all_labels, all_preds1)\n",
    "    p2, r2, _ = precision_recall_curve(all_labels, all_preds2)\n",
    "    apr1 = average_precision_score(all_labels, all_preds1)\n",
    "    apr2 = average_precision_score(all_labels, all_preds2)\n",
    "    \n",
    "    return fpr1, tpr1, auc1, fpr2, tpr2, auc2, p1, r1, apr1, p2, r2, apr2"
   ]
  },
  {
   "cell_type": "code",
   "execution_count": null,
   "metadata": {},
   "outputs": [],
   "source": [
    "def auroc_curves(fpr1, tpr1, auc1, fpr2, tpr2, auc2):\n",
    "    plt.figure(figsize=(8, 6))\n",
    "    plt.plot(fpr1, tpr1, label=f\"fine-tune w. vanilla embedding (AUC = {auc1:.3f})\")\n",
    "    plt.plot(fpr2, tpr2, label=f\"fine-tune w. GraphDKA embedding (AUC = {auc2:.3f})\")\n",
    "    plt.plot([0, 1], [0, 1], 'k--', label=\"Random Guess\")\n",
    "    plt.xlabel(\"False Positive Rate\")\n",
    "    plt.ylabel(\"True Positive Rate\")\n",
    "    plt.title(\"Fine tuning AUROC, link pred\")\n",
    "    plt.legend(loc=\"best\")\n",
    "    plt.grid()\n",
    "    plt.show()"
   ]
  },
  {
   "cell_type": "code",
   "execution_count": null,
   "metadata": {},
   "outputs": [],
   "source": []
  },
  {
   "cell_type": "code",
   "execution_count": null,
   "metadata": {},
   "outputs": [],
   "source": [
    "def pr_curves(precision1, recall1, ap1, precision2, recall2, ap2):\n",
    "    plt.figure(figsize=(8, 6))\n",
    "\n",
    "    # Plot the first PR curve\n",
    "    plt.plot(recall1, precision1, label=f\"fine-tune w. vanilla embedding (Avg. Prec. = {ap1:.3f})\", linestyle='-', marker=None)\n",
    "\n",
    "    # Plot the second PR curve\n",
    "    plt.plot(recall2, precision2, label=f\"fine-tune w. GraphDKA embedding (Avg. Prec. = {ap2:.3f})\", linestyle='--', marker=None)\n",
    "\n",
    "    # Add labels and legend\n",
    "    plt.xlabel(\"Recall\")\n",
    "    plt.ylabel(\"Precision\")\n",
    "    plt.title(\"Fine tuning Precision-Recall Curve, link pred\")\n",
    "    plt.legend(loc=\"best\")\n",
    "    plt.grid()\n",
    "\n",
    "    # Set axis limits for better visualization\n",
    "    plt.xlim([0.0, 1.0])\n",
    "    plt.ylim([0.0, 1.05])\n",
    "\n",
    "    # Show the plot\n",
    "    plt.show()"
   ]
  },
  {
   "cell_type": "code",
   "execution_count": null,
   "metadata": {},
   "outputs": [],
   "source": [
    "def random_sample_batches(dataloader, n):\n",
    "    # Convert the dataloader to a list of batches\n",
    "    batches = list(dataloader)\n",
    "    # Randomly sample n batches\n",
    "    sampled_batches = random.sample(batches, n)\n",
    "    return sampled_batches"
   ]
  },
  {
   "cell_type": "code",
   "execution_count": null,
   "metadata": {},
   "outputs": [],
   "source": [
    "vanilla_lp = LinkPredictHead(256, 1).to(\"cuda\")\n",
    "gdk_lp = LinkPredictHead(256, 1).to(\"cuda\")"
   ]
  },
  {
   "cell_type": "code",
   "execution_count": null,
   "metadata": {},
   "outputs": [],
   "source": [
    "link_predictor_geneformer = LinkPredictHead(256, 1).to(\"cuda\")"
   ]
  },
  {
   "cell_type": "code",
   "execution_count": null,
   "metadata": {},
   "outputs": [],
   "source": [
    "link_predictor_scf = LinkPredictHead(512, 1).to(\"cuda\")"
   ]
  },
  {
   "cell_type": "code",
   "execution_count": null,
   "metadata": {},
   "outputs": [],
   "source": [
    "link_predictor_scgpt = LinkPredictHead(512, 1).to(\"cuda\")"
   ]
  },
  {
   "cell_type": "code",
   "execution_count": null,
   "metadata": {},
   "outputs": [],
   "source": [
    "vanilla_loss = fine_tune(val_sg_data, pretrained_model=vanilla_model, ft_model=vanilla_lp, num_epochs=1, max_num_batches=100)"
   ]
  },
  {
   "cell_type": "code",
   "execution_count": null,
   "metadata": {},
   "outputs": [],
   "source": []
  }
 ],
 "metadata": {
  "kernelspec": {
   "display_name": "gremln",
   "language": "python",
   "name": "python3"
  },
  "language_info": {
   "codemirror_mode": {
    "name": "ipython",
    "version": 3
   },
   "file_extension": ".py",
   "mimetype": "text/x-python",
   "name": "python",
   "nbconvert_exporter": "python",
   "pygments_lexer": "ipython3",
   "version": "3.12.11"
  }
 },
 "nbformat": 4,
 "nbformat_minor": 2
}
