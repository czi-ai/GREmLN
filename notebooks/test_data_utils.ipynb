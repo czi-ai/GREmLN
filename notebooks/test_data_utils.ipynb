{
 "cells": [
  {
   "cell_type": "code",
   "execution_count": 1,
   "metadata": {},
   "outputs": [],
   "source": [
    "import sys\n",
    "sys.path.append(\"../\")"
   ]
  },
  {
   "cell_type": "code",
   "execution_count": 2,
   "metadata": {},
   "outputs": [],
   "source": [
    "from scGraphLLM.utils import node_batching\n",
    "import pandas as pd\n",
    "import numpy as np\n",
    "import scanpy as sc "
   ]
  },
  {
   "cell_type": "code",
   "execution_count": 3,
   "metadata": {},
   "outputs": [
    {
     "name": "stdout",
     "output_type": "stream",
     "text": [
      "2.2.0\n"
     ]
    }
   ],
   "source": [
    "import torch\n",
    "print(torch.__version__)"
   ]
  },
  {
   "cell_type": "markdown",
   "metadata": {},
   "source": [
    "# Test Neighborhood Batching"
   ]
  },
  {
   "cell_type": "code",
   "execution_count": 4,
   "metadata": {},
   "outputs": [
    {
     "data": {
      "text/html": [
       "<div>\n",
       "<style scoped>\n",
       "    .dataframe tbody tr th:only-of-type {\n",
       "        vertical-align: middle;\n",
       "    }\n",
       "\n",
       "    .dataframe tbody tr th {\n",
       "        vertical-align: top;\n",
       "    }\n",
       "\n",
       "    .dataframe thead th {\n",
       "        text-align: right;\n",
       "    }\n",
       "</style>\n",
       "<table border=\"1\" class=\"dataframe\">\n",
       "  <thead>\n",
       "    <tr style=\"text-align: right;\">\n",
       "      <th></th>\n",
       "      <th>regulator.values</th>\n",
       "      <th>target.values</th>\n",
       "      <th>mi.values</th>\n",
       "      <th>scc.values</th>\n",
       "      <th>count.values</th>\n",
       "      <th>log.p.values</th>\n",
       "    </tr>\n",
       "  </thead>\n",
       "  <tbody>\n",
       "    <tr>\n",
       "      <th>0</th>\n",
       "      <td>HDGF</td>\n",
       "      <td>DFFA</td>\n",
       "      <td>0.199087</td>\n",
       "      <td>0.240343</td>\n",
       "      <td>1</td>\n",
       "      <td>-4.69112</td>\n",
       "    </tr>\n",
       "    <tr>\n",
       "      <th>1</th>\n",
       "      <td>HDGF</td>\n",
       "      <td>DHRS3</td>\n",
       "      <td>0.006039</td>\n",
       "      <td>0.043752</td>\n",
       "      <td>1</td>\n",
       "      <td>-4.69112</td>\n",
       "    </tr>\n",
       "    <tr>\n",
       "      <th>2</th>\n",
       "      <td>HDGF</td>\n",
       "      <td>FAM131C</td>\n",
       "      <td>0.007315</td>\n",
       "      <td>0.061002</td>\n",
       "      <td>1</td>\n",
       "      <td>-4.69112</td>\n",
       "    </tr>\n",
       "    <tr>\n",
       "      <th>3</th>\n",
       "      <td>HDGF</td>\n",
       "      <td>DDOST</td>\n",
       "      <td>0.305156</td>\n",
       "      <td>0.220909</td>\n",
       "      <td>1</td>\n",
       "      <td>-4.69112</td>\n",
       "    </tr>\n",
       "    <tr>\n",
       "      <th>4</th>\n",
       "      <td>HDGF</td>\n",
       "      <td>HP1BP3</td>\n",
       "      <td>0.286768</td>\n",
       "      <td>0.219782</td>\n",
       "      <td>2</td>\n",
       "      <td>-10.09250</td>\n",
       "    </tr>\n",
       "  </tbody>\n",
       "</table>\n",
       "</div>"
      ],
      "text/plain": [
       "  regulator.values target.values  mi.values  scc.values  count.values  \\\n",
       "0             HDGF          DFFA   0.199087    0.240343             1   \n",
       "1             HDGF         DHRS3   0.006039    0.043752             1   \n",
       "2             HDGF       FAM131C   0.007315    0.061002             1   \n",
       "3             HDGF         DDOST   0.305156    0.220909             1   \n",
       "4             HDGF        HP1BP3   0.286768    0.219782             2   \n",
       "\n",
       "   log.p.values  \n",
       "0      -4.69112  \n",
       "1      -4.69112  \n",
       "2      -4.69112  \n",
       "3      -4.69112  \n",
       "4     -10.09250  "
      ]
     },
     "execution_count": 4,
     "metadata": {},
     "output_type": "execute_result"
    }
   ],
   "source": [
    "network = pd.read_csv(\"../../ARACNe3_output/CUAC2568/network.tsv\", sep='\\t')\n",
    "network.head()"
   ]
  },
  {
   "cell_type": "code",
   "execution_count": 5,
   "metadata": {},
   "outputs": [],
   "source": [
    "cells = sc.read_h5ad(\"../../Data/MRT_selinexor/human_cells_model1.h5ad\")"
   ]
  },
  {
   "cell_type": "code",
   "execution_count": 6,
   "metadata": {},
   "outputs": [],
   "source": [
    "adata = cells"
   ]
  },
  {
   "cell_type": "code",
   "execution_count": 7,
   "metadata": {},
   "outputs": [
    {
     "name": "stderr",
     "output_type": "stream",
     "text": [
      "/Users/mingxuanzhang/anaconda3/envs/work/lib/python3.12/site-packages/scanpy/preprocessing/_simple.py:248: ImplicitModificationWarning: Trying to modify attribute `.var` of view, initializing view as actual.\n",
      "  adata.var['n_counts'] = number\n"
     ]
    }
   ],
   "source": [
    "adata = adata[:, ~(adata.var['mt'])]\n",
    "ribo_genes = [gene for gene in adata.var_names if gene.startswith('RPS') or gene.startswith('RPL')]\n",
    "adata = adata[:, ~adata.var_names.isin(ribo_genes)]\n",
    "sc.pp.filter_genes(adata, min_counts=20)"
   ]
  },
  {
   "cell_type": "code",
   "execution_count": 8,
   "metadata": {},
   "outputs": [
    {
     "data": {
      "text/plain": [
       "View of AnnData object with n_obs × n_vars = 1865 × 21595\n",
       "    obs: 'sample', 'clinical_state', 'n_genes_by_counts', 'log1p_n_genes_by_counts', 'total_counts', 'log1p_total_counts', 'total_counts_mt', 'log1p_total_counts_mt', 'pct_counts_mt', 'n_counts', 'mouse_count', 'log(human/mouse)', 'batch', 'leiden'\n",
       "    var: 'mt', 'n_cells_by_counts', 'mean_counts', 'log1p_mean_counts', 'pct_dropout_by_counts', 'total_counts', 'log1p_total_counts', 'n_counts'\n",
       "    uns: 'leiden', 'neighbors', 'pca', 'sample_colors', 'umap'\n",
       "    obsm: 'X_pca', 'X_umap'\n",
       "    varm: 'PCs'\n",
       "    obsp: 'connectivities', 'distances'"
      ]
     },
     "execution_count": 8,
     "metadata": {},
     "output_type": "execute_result"
    }
   ],
   "source": [
    "adata = adata[adata.obs['sample'] == \"CUAC2568\"]\n",
    "adata"
   ]
  },
  {
   "cell_type": "code",
   "execution_count": 9,
   "metadata": {},
   "outputs": [
    {
     "data": {
      "text/plain": [
       "21595"
      ]
     },
     "execution_count": 9,
     "metadata": {},
     "output_type": "execute_result"
    }
   ],
   "source": [
    "genes = list(adata.var_names)\n",
    "len(genes)"
   ]
  },
  {
   "cell_type": "code",
   "execution_count": null,
   "metadata": {},
   "outputs": [],
   "source": []
  }
 ],
 "metadata": {
  "kernelspec": {
   "display_name": "work",
   "language": "python",
   "name": "python3"
  },
  "language_info": {
   "codemirror_mode": {
    "name": "ipython",
    "version": 3
   },
   "file_extension": ".py",
   "mimetype": "text/x-python",
   "name": "python",
   "nbconvert_exporter": "python",
   "pygments_lexer": "ipython3",
   "version": "3.12.1"
  }
 },
 "nbformat": 4,
 "nbformat_minor": 2
}
