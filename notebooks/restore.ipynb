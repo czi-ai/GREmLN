{
 "cells": [
  {
   "cell_type": "code",
   "execution_count": 3,
   "metadata": {},
   "outputs": [],
   "source": [
    "import torch\n",
    "import torch.nn as nn\n",
    "import torch.optim as optim "
   ]
  },
  {
   "cell_type": "code",
   "execution_count": 5,
   "metadata": {},
   "outputs": [
    {
     "name": "stdout",
     "output_type": "stream",
     "text": [
      "Model's state_dict:\n",
      "conv1.weight \t torch.Size([6, 3, 5, 5])\n",
      "conv1.bias \t torch.Size([6])\n",
      "conv2.weight \t torch.Size([16, 6, 5, 5])\n",
      "conv2.bias \t torch.Size([16])\n",
      "fc1.weight \t torch.Size([120, 400])\n",
      "fc1.bias \t torch.Size([120])\n",
      "fc2.weight \t torch.Size([84, 120])\n",
      "fc2.bias \t torch.Size([84])\n",
      "fc3.weight \t torch.Size([10, 84])\n",
      "fc3.bias \t torch.Size([10])\n",
      "\n",
      "Optimizer's state_dict:\n",
      "state \t {}\n",
      "param_groups \t [{'lr': 0.001, 'momentum': 0.9, 'dampening': 0, 'weight_decay': 0, 'nesterov': False, 'maximize': False, 'foreach': None, 'differentiable': False, 'params': [0, 1, 2, 3, 4, 5, 6, 7, 8, 9]}]\n"
     ]
    }
   ],
   "source": [
    "# Define model\n",
    "class TheModelClass(nn.Module):\n",
    "    def __init__(self):\n",
    "        super(TheModelClass, self).__init__()\n",
    "        self.conv1 = nn.Conv2d(3, 6, 5)\n",
    "        self.pool = nn.MaxPool2d(2, 2)\n",
    "        self.conv2 = nn.Conv2d(6, 16, 5)\n",
    "        self.fc1 = nn.Linear(16 * 5 * 5, 120)\n",
    "        self.fc2 = nn.Linear(120, 84)\n",
    "        self.fc3 = nn.Linear(84, 10)\n",
    "\n",
    "    def forward(self, x):\n",
    "        x = self.pool(F.relu(self.conv1(x)))\n",
    "        x = self.pool(F.relu(self.conv2(x)))\n",
    "        x = x.view(-1, 16 * 5 * 5)\n",
    "        x = F.relu(self.fc1(x))\n",
    "        x = F.relu(self.fc2(x))\n",
    "        x = self.fc3(x)\n",
    "        return x\n",
    "\n",
    "# Initialize model\n",
    "model = TheModelClass()\n",
    "\n",
    "# Initialize optimizer\n",
    "optimizer = optim.SGD(model.parameters(), lr=0.001, momentum=0.9)\n",
    "\n",
    "# Print model's state_dict\n",
    "print(\"Model's state_dict:\")\n",
    "for param_tensor in model.state_dict():\n",
    "    print(param_tensor, \"\\t\", model.state_dict()[param_tensor].size())\n",
    "\n",
    "print()\n",
    "# Print optimizer's state_dict\n",
    "print(\"Optimizer's state_dict:\")\n",
    "for var_name in optimizer.state_dict():\n",
    "    print(var_name, \"\\t\", optimizer.state_dict()[var_name])"
   ]
  },
  {
   "cell_type": "code",
   "execution_count": 6,
   "metadata": {},
   "outputs": [],
   "source": [
    "torch.save(model, 'model.pth')"
   ]
  },
  {
   "cell_type": "code",
   "execution_count": 10,
   "metadata": {},
   "outputs": [
    {
     "name": "stdout",
     "output_type": "stream",
     "text": [
      "conv1.weight \t torch.Size([6, 3, 5, 5])\n",
      "conv1.bias \t torch.Size([6])\n",
      "conv2.weight \t torch.Size([16, 6, 5, 5])\n",
      "conv2.bias \t torch.Size([16])\n",
      "fc1.weight \t torch.Size([120, 400])\n",
      "fc1.bias \t torch.Size([120])\n",
      "fc2.weight \t torch.Size([84, 120])\n",
      "fc2.bias \t torch.Size([84])\n",
      "fc3.weight \t torch.Size([10, 84])\n",
      "fc3.bias \t torch.Size([10])\n"
     ]
    }
   ],
   "source": [
    "m2 = torch.load('model.pth')\n",
    "for param_tensor in m2.state_dict():\n",
    "    print(param_tensor, \"\\t\", m2.state_dict()[param_tensor].size())"
   ]
  },
  {
   "cell_type": "code",
   "execution_count": 21,
   "metadata": {},
   "outputs": [
    {
     "name": "stdout",
     "output_type": "stream",
     "text": [
      "link_prediction_head.net.0.weight \t torch.Size([256, 512])\n",
      "link_prediction_head.net.0.bias \t torch.Size([256])\n",
      "link_prediction_head.net.1.weight \t torch.Size([256])\n",
      "link_prediction_head.net.1.bias \t torch.Size([256])\n",
      "link_prediction_head.net.3.weight \t torch.Size([1, 256])\n",
      "link_prediction_head.net.3.bias \t torch.Size([1])\n",
      "node_embedding.weight \t torch.Size([19502, 128])\n",
      "gene_prediction_head.net.0.weight \t torch.Size([256, 256])\n",
      "gene_prediction_head.net.0.bias \t torch.Size([256])\n",
      "gene_prediction_head.net.1.weight \t torch.Size([256])\n",
      "gene_prediction_head.net.1.bias \t torch.Size([256])\n",
      "gene_prediction_head.net.3.weight \t torch.Size([19247, 256])\n",
      "gene_prediction_head.net.3.bias \t torch.Size([19247])\n",
      "rank_prediction_head.net.0.weight \t torch.Size([256, 256])\n",
      "rank_prediction_head.net.0.bias \t torch.Size([256])\n",
      "rank_prediction_head.net.1.weight \t torch.Size([256])\n",
      "rank_prediction_head.net.1.bias \t torch.Size([256])\n",
      "rank_prediction_head.net.3.weight \t torch.Size([255, 256])\n",
      "rank_prediction_head.net.3.bias \t torch.Size([255])\n",
      "transformer_encoder.self_attention.out_proj.weight \t torch.Size([256, 256])\n",
      "transformer_encoder.self_attention.out_proj.bias \t torch.Size([256])\n",
      "transformer_encoder.wqkv.Wqkv.weight \t torch.Size([768, 256])\n",
      "transformer_encoder.wqkv.Wqkv.bias \t torch.Size([768])\n",
      "transformer_encoder.ff.0.weight \t torch.Size([256, 256])\n",
      "transformer_encoder.ff.0.bias \t torch.Size([256])\n",
      "transformer_encoder.ff.2.weight \t torch.Size([256, 256])\n",
      "transformer_encoder.ff.2.bias \t torch.Size([256])\n",
      "transformer_encoder.ln1.weight \t torch.Size([256])\n",
      "transformer_encoder.ln1.bias \t torch.Size([256])\n",
      "transformer_encoder.ln2.weight \t torch.Size([256])\n",
      "transformer_encoder.ln2.bias \t torch.Size([256])\n"
     ]
    }
   ],
   "source": [
    "from config import *\n",
    "\n",
    "mconfig = eval(\"vanilla\")\n",
    "\n",
    "model_fn = mconfig.model\n",
    "litmodel = model_fn(mconfig)\n",
    "\n",
    "for param_tensor in litmodel.state_dict():\n",
    "    print(param_tensor, \"\\t\", litmodel.state_dict()[param_tensor].size())\n",
    "\n",
    "torch.save(litmodel, 'litmodel.pth')"
   ]
  },
  {
   "cell_type": "code",
   "execution_count": 20,
   "metadata": {},
   "outputs": [
    {
     "name": "stdout",
     "output_type": "stream",
     "text": [
      "link_prediction_head.net.0.weight \t torch.Size([256, 512])\n",
      "link_prediction_head.net.0.bias \t torch.Size([256])\n",
      "link_prediction_head.net.1.weight \t torch.Size([256])\n",
      "link_prediction_head.net.1.bias \t torch.Size([256])\n",
      "link_prediction_head.net.3.weight \t torch.Size([1, 256])\n",
      "link_prediction_head.net.3.bias \t torch.Size([1])\n",
      "node_embedding.weight \t torch.Size([19502, 128])\n",
      "gene_prediction_head.net.0.weight \t torch.Size([256, 256])\n",
      "gene_prediction_head.net.0.bias \t torch.Size([256])\n",
      "gene_prediction_head.net.1.weight \t torch.Size([256])\n",
      "gene_prediction_head.net.1.bias \t torch.Size([256])\n",
      "gene_prediction_head.net.3.weight \t torch.Size([19247, 256])\n",
      "gene_prediction_head.net.3.bias \t torch.Size([19247])\n",
      "rank_prediction_head.net.0.weight \t torch.Size([256, 256])\n",
      "rank_prediction_head.net.0.bias \t torch.Size([256])\n",
      "rank_prediction_head.net.1.weight \t torch.Size([256])\n",
      "rank_prediction_head.net.1.bias \t torch.Size([256])\n",
      "rank_prediction_head.net.3.weight \t torch.Size([255, 256])\n",
      "rank_prediction_head.net.3.bias \t torch.Size([255])\n",
      "transformer_encoder.self_attention.out_proj.weight \t torch.Size([256, 256])\n",
      "transformer_encoder.self_attention.out_proj.bias \t torch.Size([256])\n",
      "transformer_encoder.wqkv.Wqkv.weight \t torch.Size([768, 256])\n",
      "transformer_encoder.wqkv.Wqkv.bias \t torch.Size([768])\n",
      "transformer_encoder.ff.0.weight \t torch.Size([256, 256])\n",
      "transformer_encoder.ff.0.bias \t torch.Size([256])\n",
      "transformer_encoder.ff.2.weight \t torch.Size([256, 256])\n",
      "transformer_encoder.ff.2.bias \t torch.Size([256])\n",
      "transformer_encoder.ln1.weight \t torch.Size([256])\n",
      "transformer_encoder.ln1.bias \t torch.Size([256])\n",
      "transformer_encoder.ln2.weight \t torch.Size([256])\n",
      "transformer_encoder.ln2.bias \t torch.Size([256])\n"
     ]
    }
   ],
   "source": [
    "m2 = torch.load('litmodel.pth')\n",
    "for param_tensor in m2.state_dict():\n",
    "    print(param_tensor, \"\\t\", m2.state_dict()[param_tensor].size())"
   ]
  },
  {
   "cell_type": "code",
   "execution_count": 3,
   "metadata": {},
   "outputs": [
    {
     "name": "stdout",
     "output_type": "stream",
     "text": [
      "{'model': <class 'flash_transformer.GDTransformer'>, 'model_config': {'num_ranks': 255, 'num_genes': 19247, 'node_embedding_dim': 128}, 'transformer_config': {'transformer_dim': {'input_dim': 256, 'feed_dim': 256, 'hidden_dims': [256, 256, 256], 'conv_dim': 256, 'out_dim': 256}, 'num_heads': 8, 'num_encoder_layers': 1, 'activation': 'gelu', 'dropout': 0.1, 'batch_first': True, 'use_pe': False, 'use_attn_mask': False, 'use_flash_attn': True}, 'data_config': {'train': {'cache_dir': '/hpc/projects/group.califano/GLM/data/cxg_cache_4096/train', 'dataset_name': 'train'}, 'val': [{'cache_dir': '/hpc/projects/group.califano/GLM/data/cxg_cache_4096/valSG', 'dataset_name': 'valSG'}, {'cache_dir': '/hpc/projects/group.califano/GLM/data/cxg_cache_4096/valHOG', 'dataset_name': 'valHOG'}], 'test': [], 'run_test': False, 'num_workers': 1, 'batch_size': 16}, 'trainer_config': {'max_epochs': 100, 'accelerator': 'gpu', 'max_time': '01:00:00:00', 'devices': 1, 'precision': 'bf16', 'num_sanity_val_steps': 0, 'log_every_n_steps': 1, 'val_check_interval': 0.1, 'checkpoint_config': {'save_top_k': -1, 'every_n_train_steps': 10000}}, 'loss_config': {'loss': 'mlm'}, 'optim_config': {'optimizer': <class 'torch.optim.adam.Adam'>, 'args': {'lr': 0.0001, 'betas': [0.9, 0.999]}}, 'repo_name': 'scGraphLLM', 'wandb_user': 'aqlab', 'wandb_project': 'scGraphLLM', 'slurm_jobid': '17510875'}\n"
     ]
    }
   ],
   "source": [
    "from config import *\n",
    "import pickle\n",
    "\n",
    "with open('/hpc/mydata/leo.dupire/GLM/model_out/nv8uMjIF/mconfig_used.json', 'rb') as file:  # 'rb' mode for reading binary\n",
    "    data = pickle.load(file)  # Load the pickled data\n",
    "\n",
    "print(data)"
   ]
  }
 ],
 "metadata": {
  "kernelspec": {
   "display_name": "scllm",
   "language": "python",
   "name": "python3"
  },
  "language_info": {
   "codemirror_mode": {
    "name": "ipython",
    "version": 3
   },
   "file_extension": ".py",
   "mimetype": "text/x-python",
   "name": "python",
   "nbconvert_exporter": "python",
   "pygments_lexer": "ipython3",
   "version": "3.9.10"
  }
 },
 "nbformat": 4,
 "nbformat_minor": 2
}
